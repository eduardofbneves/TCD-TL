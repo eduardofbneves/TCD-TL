{
 "cells": [
  {
   "cell_type": "code",
   "execution_count": 1,
   "metadata": {},
   "outputs": [],
   "source": [
    "from mpl_toolkits.mplot3d import Axes3D\n",
    "import pandas as pd\n",
    "import numpy as np\n",
    "import matplotlib.pyplot as plt\n",
    "from sklearn.decomposition import PCA\n",
    "from math import pi, cos, sin\n",
    "from scipy.fft import fft, fftfreq, fftshift"
   ]
  },
  {
   "cell_type": "code",
   "execution_count": 41,
   "metadata": {},
   "outputs": [],
   "source": [
    "dataset = [\n",
    "    [160, 210, 120, 80, 70, 60, 220, 155, 230],\n",
    "    [100, 140, 180, 160, 55, 45, 78, 120, 155],\n",
    "    [267, 371, 305, 225, 123, 100, 302, 279, 389],\n",
    "    [75, 89, 80, 45, 123, 89, 99, 100, 67]\n",
    "]\n",
    "\n",
    "\n",
    "cluster_centers = np.array([[0, 0, 0, 0], [10, 13, 21, 51]])"
   ]
  },
  {
   "cell_type": "code",
   "execution_count": 42,
   "metadata": {},
   "outputs": [
    {
     "name": "stdout",
     "output_type": "stream",
     "text": [
      "[[ 0.24019223 -0.3251241   0.04990271 -0.48821654]\n",
      " [ 1.040833    0.55491106  1.1620202   0.18042785]\n",
      " [-0.40032038  1.43494622  0.45625333 -0.24941497]\n",
      " [-1.040833    0.99492864 -0.39922167 -1.92102596]\n",
      " [-1.20096115 -1.31516365 -1.48995229  1.80427853]\n",
      " [-1.36108931 -1.53517244 -1.73590135  0.18042785]\n",
      " [ 1.20096115 -0.80914344  0.42417302  0.65803099]\n",
      " [ 0.16012815  0.11489348  0.17822396  0.70579131]\n",
      " [ 1.36108931  0.88492424  1.35450208 -0.87029905]]\n",
      "\n",
      "\n",
      "[[ 9.          2.8095607   7.98797466 -0.52387231]\n",
      " [ 2.8095607   9.          6.3864259  -5.88173722]\n",
      " [ 7.98797466  6.3864259   9.         -2.93699158]\n",
      " [-0.52387231 -5.88173722 -2.93699158  9.        ]]\n"
     ]
    }
   ],
   "source": [
    "means = np.mean(np.transpose(dataset), axis=0)\n",
    "std = np.std(np.transpose(dataset), axis=0)\n",
    "\n",
    "norm = np.divide(np.subtract(np.transpose(dataset), means), std)\n",
    "print(norm)\n",
    "print(\"\\n\")\n",
    "cov = np.matmul(np.transpose(norm), norm)\n",
    "print(cov)"
   ]
  },
  {
   "cell_type": "code",
   "execution_count": 44,
   "metadata": {},
   "outputs": [
    {
     "name": "stdout",
     "output_type": "stream",
     "text": [
      "[[220.         124.33333333 354.          85.        ]\n",
      " [107.5        110.         216.5         85.33333333]]\n"
     ]
    }
   ],
   "source": [
    "from sklearn.cluster import KMeans\n",
    "\n",
    "kmeans = KMeans(n_clusters=2, init=cluster_centers, n_init=1)\n",
    "kmeans.fit(np.transpose(dataset))\n",
    "print(kmeans.cluster_centers_)"
   ]
  },
  {
   "cell_type": "code",
   "execution_count": 45,
   "metadata": {},
   "outputs": [],
   "source": [
    "dataset = pd.DataFrame(np.array(dataset), index={'BP', 'HR', 'LVET', 'PEP'})\n",
    "labels = ['N', 'N', 'N', 'HF', 'HF', 'HF', 'N', 'N', 'HF']\n",
    "target_colors = ['b', 'b', 'b', 'r', 'r', 'r', 'b', 'b', 'r']"
   ]
  },
  {
   "cell_type": "code",
   "execution_count": 46,
   "metadata": {},
   "outputs": [],
   "source": [
    "dataset = np.round(((dataset - dataset.mean()) / dataset.std()).T, decimals=2)"
   ]
  },
  {
   "cell_type": "code",
   "execution_count": 47,
   "metadata": {},
   "outputs": [],
   "source": [
    "pca = PCA(n_components=4)\n",
    "output = pd.DataFrame(\n",
    "    pca.fit_transform(dataset),\n",
    "    columns={'PC1', 'PC2', 'PC3', 'PC4'}\n",
    ")"
   ]
  },
  {
   "cell_type": "code",
   "execution_count": 48,
   "metadata": {},
   "outputs": [
    {
     "name": "stdout",
     "output_type": "stream",
     "text": [
      "eigenvectors >> \n",
      " [[-0.19 -0.46 -0.19  0.84]\n",
      " [-0.73  0.65 -0.09  0.17]\n",
      " [-0.42 -0.33  0.84 -0.09]\n",
      " [-0.5  -0.5  -0.5  -0.5 ]]\n",
      "eigenvalues >> \n",
      " [5.88 1.86 0.08 0.  ]\n",
      "evr% >>  [75.17 23.75  1.08  0.  ]\n"
     ]
    }
   ],
   "source": [
    "pervar = np.round(pca.explained_variance_ratio_ * 100, decimals=2)\n",
    "print('eigenvectors >> \\n', np.round(pca.components_, decimals=2))\n",
    "print('eigenvalues >> \\n', np.round(pca.singular_values_ ** 2, decimals=2))\n",
    "print('evr% >> ', pervar)"
   ]
  },
  {
   "cell_type": "code",
   "execution_count": 49,
   "metadata": {},
   "outputs": [
    {
     "data": {
      "image/png": "[encoded data removed]",
      "text/plain": [
       "<Figure size 500x500 with 1 Axes>"
      ]
     },
     "metadata": {},
     "output_type": "display_data"
    }
   ],
   "source": [
    "plt.figure(figsize=(5, 5))\n",
    "plt.scatter(output.iloc[:, 0], output.iloc[:, 1],\n",
    "            c=target_colors, cmap='plasma')\n",
    "plt.xlabel('pc1')\n",
    "plt.ylabel('pc2')\n",
    "plt.show()"
   ]
  },
  {
   "cell_type": "markdown",
   "metadata": {},
   "source": [
    "axis = fig.add_subplot(111, projection='3d')\n",
    "\"\"\"\n",
    "# x[:,0]is pc1,x[:,1] is pc2 while x[:,2] is pc3\n",
    "\"\"\" \n",
    "axis.scatter(output.iloc[:, 0], output.iloc[:, 1],\n",
    "             output.iloc[:, 2], c=target_colors, cmap='plasma')\n",
    "axis.set_xlabel(\"PC1\", fontsize=10)\n",
    "axis.set_ylabel(\"PC2\", fontsize=10)\n",
    "axis.set_zlabel(\"PC3\", fontsize=10)\n",
    "plt.show()"
   ]
  },
  {
   "cell_type": "code",
   "execution_count": 51,
   "metadata": {},
   "outputs": [
    {
     "name": "stdout",
     "output_type": "stream",
     "text": [
      "eigenvectors >> \n",
      " [[-0.19 -0.46 -0.19  0.84]]\n",
      "eigenvalues >> \n",
      " [5.88]\n",
      "evr% >>  [75.17]\n"
     ]
    }
   ],
   "source": [
    "pca = PCA(0.75)\n",
    "output = pca.fit_transform(dataset)\n",
    "# output = pd.DataFrame(output, columns={'PC1', 'PC2', 'PC3', 'PC4'})\n",
    "pervar = np.round(pca.explained_variance_ratio_ * 100, decimals=2)\n",
    "print('eigenvectors >> \\n', np.round(pca.components_, decimals=2))\n",
    "print('eigenvalues >> \\n', np.round(pca.singular_values_ ** 2, decimals=2))\n",
    "print('evr% >> ', pervar)"
   ]
  },
  {
   "cell_type": "code",
   "execution_count": 52,
   "metadata": {},
   "outputs": [
    {
     "name": "stdout",
     "output_type": "stream",
     "text": [
      "sp >> [0.2048    -0.j         0.25318278-0.13504569j 0.48138074-0.42708353j\n",
      " 2.24786722-2.81831005j 1.68896926+2.67475335j 1.3244    -0.j\n",
      " 1.68896926-2.67475335j 2.24786722+2.81831005j 0.48138074+0.42708353j\n",
      " 0.25318278+0.13504569j]\n",
      "freq >> [-0.44444444 -0.33333333 -0.22222222 -0.11111111  0.          0.11111111\n",
      "  0.22222222  0.33333333  0.44444444]\n"
     ]
    }
   ],
   "source": [
    "Y = [\n",
    "    1.0872, 0.1347, 0.0847,\n",
    "    0.6020, 0.7925, 0.1781,\n",
    "    -0.7778, -1.1272, -0.4220,\n",
    "    0.7722\n",
    "]\n",
    "\n",
    "t = np.arange(0, 90, 10)\n",
    "sp = fftshift(fft(Y))\n",
    "freq = fftshift(fftfreq(t.shape[-1]))\n",
    "print(\"sp >>\", sp)\n",
    "print(\"freq >>\", freq)"
   ]
  },
  {
   "cell_type": "code",
   "execution_count": null,
   "metadata": {},
   "outputs": [],
   "source": []
  }
 ],
 "metadata": {
  "kernelspec": {
   "display_name": "base",
   "language": "python",
   "name": "python3"
  },
  "language_info": {
   "codemirror_mode": {
    "name": "ipython",
    "version": 3
   },
   "file_extension": ".py",
   "mimetype": "text/x-python",
   "name": "python",
   "nbconvert_exporter": "python",
   "pygments_lexer": "ipython3",
   "version": "3.9.13"
  },
  "orig_nbformat": 4,
  "vscode": {
   "interpreter": {
    "hash": "c5abe1dd6f168b4f5e67de02cffc00ce8cef82ade2b382edc6fecc892b15c5a1"
   }
  }
 },
 "nbformat": 4,
 "nbformat_minor": 2
}

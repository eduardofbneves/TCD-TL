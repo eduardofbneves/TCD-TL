{
 "cells": [
  {
   "attachments": {},
   "cell_type": "markdown",
   "metadata": {},
   "source": [
    "# Parte B. \n",
    "### Elaboração de um conjunto de scripts e funções em Python, NumPy, SciPy e Scikit-learn para realizar as tarefas de Aprendizagem Computacional e Avaliação"
   ]
  },
  {
   "cell_type": "code",
   "execution_count": 21,
   "metadata": {},
   "outputs": [],
   "source": [
    "import numpy as np\n",
    "import pandas as pd\n",
    "import matplotlib.pyplot as plt\n",
    "import math\n",
    "from ReliefF import ReliefF #https://pypi.org/project/ReliefF/\n",
    "\n",
    "# importar livraria que contem as funcoes das features\n",
    "import featuresFunctions\n",
    "from sklearn.model_selection import train_test_split, KFold\n",
    "from sklearn.metrics import confusion_matrix, plot_confusion_matrix, ConfusionMatrixDisplay\n",
    "from sklearn.svm import SVC\n",
    "from sklearn.model_selection import cross_val_score\n",
    "from sklearn.metrics import recall_score, precision_score, f1_score\n",
    "from sklearn.neighbors import KNeighborsClassifier\n",
    "from sklearn.cluster import KMeans\n",
    "\n",
    "# ex 4\n",
    "from sklearn.neural_network import MLPClassifier\n",
    "\n",
    "import warnings\n",
    "warnings.filterwarnings(\"ignore\")"
   ]
  },
  {
   "attachments": {},
   "cell_type": "markdown",
   "metadata": {},
   "source": [
    "___\n",
    "\n",
    "# 0. Utility functions"
   ]
  },
  {
   "cell_type": "code",
   "execution_count": 23,
   "metadata": {},
   "outputs": [],
   "source": [
    "def get_classes(target):\n",
    "    return np.unique(target)\n",
    "\n",
    "def sigmoid(x):\n",
    "    return 1 / (1 + math.exp(-x))"
   ]
  },
  {
   "attachments": {},
   "cell_type": "markdown",
   "metadata": {},
   "source": [
    "### 0.1. Loading human activities dataset"
   ]
  },
  {
   "cell_type": "code",
   "execution_count": 3,
   "metadata": {},
   "outputs": [
    {
     "data": {
      "text/plain": [
       "array([ 1.,  2.,  3.,  4.,  5.,  6.,  7.,  8.,  9., 10., 11., 12., 13.,\n",
       "       14., 15., 16.])"
      ]
     },
     "execution_count": 3,
     "metadata": {},
     "output_type": "execute_result"
    }
   ],
   "source": [
    "def load_human_activities_dataset():\n",
    "    loc = []\n",
    "\n",
    "    for i in range (0,15):\n",
    "        loc.append(\"FORTH_TRACE_DATASET-master/part\" + str(i) + \"/part\" + str(i) + \"dev2.csv\")\n",
    "\n",
    "    array = []\n",
    "    for file in loc:\n",
    "        df = pd.read_csv(file, sep=',', header=None)\n",
    "        array.append(df.to_numpy())\n",
    "\n",
    "    array = np.concatenate(array)\n",
    "    #print(array.shape)\n",
    "\n",
    "    return array\n",
    "\n",
    "# hacti - HumanACTIvities\n",
    "hacti_data = load_human_activities_dataset()\n",
    "hacti_input = hacti_data[:, :11]\n",
    "hacti_target = hacti_data[:, -1]\n",
    "\n",
    "hacti_classes = get_classes(hacti_target)\n",
    "\n",
    "dummy = hacti_data[:6]\n",
    "dummy_input = dummy[:, :11]\n",
    "dummy_target = dummy[:, -1]\n",
    "\n",
    "hacti_classes"
   ]
  },
  {
   "attachments": {},
   "cell_type": "markdown",
   "metadata": {},
   "source": [
    "### 0.2. Loading Iris dataset\n",
    "\n",
    "150 instances <br>\n",
    "4 atributes:\n",
    "1. sepal length in cm\n",
    "2. sepal width in cm\n",
    "3. petal length in cm\n",
    "4. petal width in cm\n",
    "\n",
    "3 classes:\n",
    "- Iris Setosa\n",
    "- Iris Versicolour\n",
    "- Iris Virginica"
   ]
  },
  {
   "cell_type": "code",
   "execution_count": 4,
   "metadata": {},
   "outputs": [
    {
     "name": "stdout",
     "output_type": "stream",
     "text": [
      "     sepal length (cm)  sepal width (cm)  petal length (cm)  petal width (cm)  \\\n",
      "0                  5.1               3.5                1.4               0.2   \n",
      "1                  4.9               3.0                1.4               0.2   \n",
      "2                  4.7               3.2                1.3               0.2   \n",
      "3                  4.6               3.1                1.5               0.2   \n",
      "4                  5.0               3.6                1.4               0.2   \n",
      "..                 ...               ...                ...               ...   \n",
      "145                6.7               3.0                5.2               2.3   \n",
      "146                6.3               2.5                5.0               1.9   \n",
      "147                6.5               3.0                5.2               2.0   \n",
      "148                6.2               3.4                5.4               2.3   \n",
      "149                5.9               3.0                5.1               1.8   \n",
      "\n",
      "     target  \n",
      "0         0  \n",
      "1         0  \n",
      "2         0  \n",
      "3         0  \n",
      "4         0  \n",
      "..      ...  \n",
      "145       2  \n",
      "146       2  \n",
      "147       2  \n",
      "148       2  \n",
      "149       2  \n",
      "\n",
      "[150 rows x 5 columns]\n"
     ]
    }
   ],
   "source": [
    "from sklearn.datasets import load_iris\n",
    "\n",
    "iris_data = load_iris()\n",
    "\n",
    "df = pd.DataFrame(iris_data.data, columns = iris_data.feature_names)\n",
    "df['target'] = iris_data.target\n",
    "print(df)\n",
    "iris_df = df\n",
    "iris_input = iris_data.data\n",
    "iris_target = iris_data.target\n",
    "\n",
    "iris_classes = get_classes(iris_target)"
   ]
  },
  {
   "attachments": {},
   "cell_type": "markdown",
   "metadata": {},
   "source": [
    "___\n",
    "\n",
    "# 1. Data splitting e métricas de exactidão em machine learning\n",
    "### 1.1. Usando o scikit-learn, desenvolva um conjunto de funções para **data splitting** usando dois cenários:"
   ]
  },
  {
   "attachments": {},
   "cell_type": "markdown",
   "metadata": {},
   "source": [
    "### 1.1.1. Train-Test (TT) e Train-Validation-Test data split\n",
    "\n",
    "Divides x (input) and y (target) in: <br>\n",
    "- x_train = x * test_perc   \n",
    "- x_val = x * val_perc         \n",
    "- x_test = x - x_train - x_val\n",
    "- y_train = y * test_perc     \n",
    "- y_val = y * val_perc\n",
    "- y_test = y - y_train - y_val"
   ]
  },
  {
   "cell_type": "code",
   "execution_count": 5,
   "metadata": {},
   "outputs": [],
   "source": [
    "def tt(x, y, test_perc):\n",
    "    test_size = test_perc * 0.01\n",
    "    x_train, x_test, y_train, y_test = train_test_split(x, y, test_size=test_size, random_state=1)\n",
    "\n",
    "    return x_train, x_test, y_train, y_test\n",
    "\n",
    "\n",
    "def tvt(x, y, val_perc, test_perc):\n",
    "    test_size = test_perc * 0.01\n",
    "    x_train, x_test, y_train, y_test = train_test_split(x, y, test_size=test_size, random_state=1)\n",
    "\n",
    "    # 80 train, 20 test -> 60 train, 20 validation, 20 test\n",
    "    val_size = test_perc * 0.01\n",
    "    x_train, x_val, y_train, y_val = train_test_split(x_train, y_train, test_size=val_size, random_state=1) # 0.25 x 0.8 = 0.2\n",
    "\n",
    "    return x_train, x_val, x_test, y_train, y_val, y_test\n"
   ]
  },
  {
   "attachments": {},
   "cell_type": "markdown",
   "metadata": {},
   "source": [
    "### 1.1.2. K-fold data split\n",
    "\n",
    "K-folds cross-validator. Returns k indexes of training and validating (min - 2. max - samples)"
   ]
  },
  {
   "cell_type": "code",
   "execution_count": 8,
   "metadata": {},
   "outputs": [
    {
     "data": {
      "text/plain": [
       "'\\nx = np.array([[1,2], [3, 4], [5, 6], [7, 8]])\\ny = np.array([1, 2, 10, 20])\\n\\nkf_input_train, kf_input_test, kf_target_train, kf_target_test = k_fold_arrays(x, y, 3)\\n\\nmean_score = 0.00\\nfor i in range(len(kf_target_test)):\\n    input_train = kf_input_train[i]\\n    input_test = kf_input_test[i]\\n    target_train = kf_target_train[i]\\n    target_test = kf_target_test[i]\\n\\nprint(input_train)\\nprint(input_test)\\nprint(target_train)\\nprint(target_test)\\n'"
      ]
     },
     "execution_count": 8,
     "metadata": {},
     "output_type": "execute_result"
    }
   ],
   "source": [
    "def k_fold_indexes(data_input, splits):\n",
    "    kf = KFold(n_splits=splits)\n",
    "\n",
    "    x_indexes_train=[]\n",
    "    x_indexes_test=[]\n",
    "    for i, (train_index, test_index) in enumerate(kf.split(data_input)):\n",
    "        x_indexes_train.append(train_index)\n",
    "        x_indexes_test.append(test_index)\n",
    "\n",
    "        #print(train_index, test_index)\n",
    "\n",
    "    return x_indexes_train, x_indexes_test\n",
    "    \n",
    "\n",
    "def k_fold_arrays(data_input, data_target, splits):\n",
    "    input_train = []\n",
    "    input_test = []\n",
    "    target_train = []\n",
    "    target_test = []\n",
    "\n",
    "    train_indexes, test_indexes = k_fold_indexes(data_input, splits)\n",
    "    \n",
    "    # new train set according to indexes\n",
    "    for i in train_indexes:\n",
    "        input_train.append(data_input[i])\n",
    "        target_train.append(data_target[i])\n",
    "\n",
    "    # new test set according to indexes\n",
    "    for j in test_indexes:\n",
    "        input_test.append(data_input[j])\n",
    "        target_test.append(data_target[j])\n",
    "\n",
    "    # vstack to turn list of numpy arrays in simple numpy arrays\n",
    "    #input_train = np.vstack(input_train)\n",
    "    #input_test = np.vstack(input_test)\n",
    "    # Input test set:  [array([[1, 2],\n",
    "    #                 [3, 4]]), array([[5, 6]]), array([[7, 8]])]\n",
    "    # Input test set:  [[1 2]\n",
    "    #                 [3 4]\n",
    "    #                 [5 6]\n",
    "    #                 [7 8]]\n",
    "\n",
    "    \"\"\"\n",
    "    print(\"--- ORIGINAL SET: \", data_input)\n",
    "    print(\"Train indexes: \", train_indexes)\n",
    "    print(\"Test indexes: \", test_indexes)\n",
    "    print(\"--- TRAIN SET\")\n",
    "    print(\"Input train set: \", input_train)\n",
    "    print(\"Target train set: \", target_train)\n",
    "    print(\"---TEST SET\")\n",
    "    print(\"Input test set: \", input_test)\n",
    "    print(\"Target test set: \", target_test)\n",
    "    \"\"\"\n",
    "\n",
    "    return input_train, input_test, target_train, target_test\n",
    "\n",
    "### TEST CODE\n",
    "# K-FOLD\n",
    "\n",
    "# dummy = human_activities_data[:6]\n",
    "# dummy_input = dummy[:, :11]\n",
    "# dummy_target = dummy[:, -1]\n",
    "\n",
    "\n",
    "#dummy_train_indexes, dummy_test_indexes = k_fold_indexes(dummy_target, 5)\n",
    "#print(\"---\")\n",
    "\n",
    "\"\"\"\n",
    "x = np.array([[1,2], [3, 4], [5, 6], [7, 8]])\n",
    "y = np.array([1, 2, 10, 20])\n",
    "\n",
    "kf_input_train, kf_input_test, kf_target_train, kf_target_test = k_fold_arrays(x, y, 3)\n",
    "\n",
    "mean_score = 0.00\n",
    "for i in range(len(kf_target_test)):\n",
    "    input_train = kf_input_train[i]\n",
    "    input_test = kf_input_test[i]\n",
    "    target_train = kf_target_train[i]\n",
    "    target_test = kf_target_test[i]\n",
    "\n",
    "print(input_train)\n",
    "print(input_test)\n",
    "print(target_train)\n",
    "print(target_test)\n",
    "\"\"\"\n",
    "\n",
    "\n",
    "#recall, precision, f1 = exact_methods(dummy_real, dummy_pred, 'macro')\n",
    "#print(recall, precision, f1) # com average = 'micro' os resultados sao iguais\n"
   ]
  },
  {
   "attachments": {},
   "cell_type": "markdown",
   "metadata": {},
   "source": [
    "### 1.2. Usando o scikit-learn, desenvolva um conjunto de funções para cálculo de **métricas de exactidação**, nomeadamente as seguintes:\n",
    "\n",
    "### 1.1.2. Matriz de confusão\n",
    "### 1.2.2. Recall\n",
    "### 1.2.3. Precision\n",
    "### 1.2.4. F1-score"
   ]
  },
  {
   "cell_type": "code",
   "execution_count": 6,
   "metadata": {},
   "outputs": [],
   "source": [
    "#from sklearn.metrics import confusion_matrix, plot_confusion_matrix\n",
    "#from sklearn.metrics import recall_score, precision_score, f1_score\n",
    "\n",
    "\"\"\"\n",
    "def confusion(knn, target_test, target_pred):\n",
    "    cm = confusion_matrix(target_test, target_pred)\n",
    "    matrix = plot_confusion_matrix(knn, cm, target_test, cmap=plt.cm.Blues)\n",
    "    matrix.ax_.set_title('Confusion Matrix')\n",
    "    plt.xlabel('Predicted Label')\n",
    "    plt.ylabel('True Label')\n",
    "    plt.gcf().axes[0]\n",
    "    plt.gcf().axes[1]\n",
    "    return cm, plt\n",
    "\n",
    "def plot_cm2222(X, y):\n",
    "    X_train, X_test, y_train, y_test = train_test_split(X, y, random_state=0)\n",
    "    clf = SVC(random_state=0)\n",
    "    clf.fit(X_train, y_train)\n",
    "    SVC(random_state=0)\n",
    "    predictions = clf.predict(X_test)\n",
    "    cm = confusion_matrix(y_test, predictions, labels=clf.classes_)\n",
    "    disp = ConfusionMatrixDisplay(confusion_matrix=cm, display_labels=clf.classes_)\n",
    "    disp.plot()\n",
    "\n",
    "    plt.show()\n",
    "\n",
    "\"\"\"\n",
    "\n",
    "def plot_cm(target_test, target_pred, classes):\n",
    "    cm = confusion_matrix(target_test, target_pred, labels=classes)\n",
    "    disp = ConfusionMatrixDisplay(confusion_matrix=cm, display_labels=classes)\n",
    "    disp.plot()\n",
    "\n",
    "    plt.show()\n",
    "\n",
    "def exact_methods(y_true, y_pred, av):\n",
    "    '''\n",
    "    av = micro\n",
    "    av = macro\n",
    "    av = binary\n",
    "    av = samples\n",
    "    av = weighted\n",
    "    '''\n",
    "    recall = recall_score(y_true, y_pred, average=av) # average=?\n",
    "    precision = precision_score(y_true, y_pred, average=av)\n",
    "    f1 = f1_score(y_true, y_pred, average=av)\n",
    "\n",
    "    return recall, precision, f1\n"
   ]
  },
  {
   "attachments": {},
   "cell_type": "markdown",
   "metadata": {},
   "source": [
    "# 2. Experiências iniciais com um classificador simples, i.e., k-Nearest Neighbours (kNN)\n",
    "\n",
    "### 2.1. Usando:\n",
    "- as funções anteriores\n",
    "- o algoritmo kNN\n",
    "- o dataset Iris\n",
    "\n",
    "avalie a capacidade de previsão do algoritmo neste dataset, com **k = 1** e restantes parâmetros por omissão (e.g., métrica de distância, etc.), e usando todo o conjunto de features, nos seguintes cenários:"
   ]
  },
  {
   "attachments": {},
   "cell_type": "markdown",
   "metadata": {},
   "source": [
    "### 2.1.1. Train-only, TT 70-30 e 10x10-fold cross-validation (10CV)"
   ]
  },
  {
   "cell_type": "code",
   "execution_count": 9,
   "metadata": {},
   "outputs": [
    {
     "name": "stdout",
     "output_type": "stream",
     "text": [
      "----- Train-only -----\n"
     ]
    },
    {
     "data": {
      "image/png": "[encoded data removed]",
      "text/plain": [
       "<Figure size 640x480 with 2 Axes>"
      ]
     },
     "metadata": {},
     "output_type": "display_data"
    },
    {
     "name": "stdout",
     "output_type": "stream",
     "text": [
      "Recall:  1.0\n",
      "Precision:  1.0\n",
      "F1 score:  1.0 \n",
      "\n",
      "----- TT 70-30 -----\n"
     ]
    },
    {
     "data": {
      "image/png": "[encoded data removed]",
      "text/plain": [
       "<Figure size 640x480 with 2 Axes>"
      ]
     },
     "metadata": {},
     "output_type": "display_data"
    },
    {
     "name": "stdout",
     "output_type": "stream",
     "text": [
      "Recall:  0.9777777777777777\n",
      "Precision:  0.9789473684210527\n",
      "F1 score:  0.9776336336336338 \n",
      "\n",
      "----- 10-FOLD CV -----\n",
      "MEAN RECALL: 0.9600000000000002\n",
      "MEAN PRECISION: 1.0\n",
      "MEAN F1 SCORE: 0.9788177339901478\n"
     ]
    },
    {
     "data": {
      "image/png": "[encoded data removed]",
      "text/plain": [
       "<Figure size 640x480 with 2 Axes>"
      ]
     },
     "metadata": {},
     "output_type": "display_data"
    }
   ],
   "source": [
    "### TRAIN-ONLY\n",
    "print(\"----- Train-only -----\")\n",
    "\n",
    "target_classes = iris_classes\n",
    "input_train, target_train = iris_input, iris_target\n",
    "\n",
    "knn = KNeighborsClassifier(n_neighbors=1)\n",
    "knn.fit(input_train, target_train)\n",
    "target_pred = knn.predict(input_train)\n",
    "\n",
    "recall, precision, f1 = exact_methods(target_train, target_pred, 'weighted')\n",
    "cm = plot_cm(target_train, target_pred, target_classes)\n",
    "\n",
    "print(\"Recall: \", recall)\n",
    "print(\"Precision: \", precision)\n",
    "print(\"F1 score: \", f1, \"\\n\")\n",
    "\n",
    "\n",
    "\n",
    "### TT 70-30\n",
    "print(\"----- TT 70-30 -----\")\n",
    "\n",
    "target_classes = iris_classes\n",
    "input_train, input_test, target_train, target_test = tt(iris_input, iris_target, 30)\n",
    "\n",
    "knn = KNeighborsClassifier(n_neighbors=1)\n",
    "knn.fit(input_train, target_train)\n",
    "target_pred = knn.predict(input_test)\n",
    "\n",
    "recall, precision, f1 = exact_methods(target_test, target_pred, 'weighted')\n",
    "cm = plot_cm(target_test, target_pred, target_classes)\n",
    "\n",
    "print(\"Recall: \", recall)\n",
    "print(\"Precision: \", precision)\n",
    "print(\"F1 score: \", f1, \"\\n\")\n",
    "\n",
    "\n",
    "\n",
    "### 10-FOLD CV\n",
    "print(\"----- 10-FOLD CV -----\")\n",
    "\n",
    "target_classes = iris_classes\n",
    "fold = 10\n",
    "kf_input_train, kf_input_test, kf_target_train, kf_target_test = k_fold_arrays(iris_input, iris_target, fold)\n",
    "\n",
    "mean_recall = 0.00\n",
    "mean_precision = 0.00\n",
    "mean_f1 = 0.00\n",
    "total_target_test = []\n",
    "total_target_pred = []\n",
    "for i in range(len(kf_target_test)):\n",
    "    input_train = kf_input_train[i]\n",
    "    input_test = kf_input_test[i]\n",
    "    target_train = kf_target_train[i]\n",
    "    target_test = kf_target_test[i]\n",
    "\n",
    "    knn = KNeighborsClassifier(n_neighbors=1)\n",
    "    knn.fit(input_train, target_train)\n",
    "    target_pred = knn.predict(input_test)\n",
    "    total_target_test.extend(target_test)\n",
    "    total_target_pred.extend(target_pred)\n",
    "\n",
    "    recall, precision, f1 = exact_methods(target_test, target_pred, 'weighted')\n",
    "    mean_recall += recall\n",
    "    mean_precision += precision\n",
    "    mean_f1 += f1\n",
    "\n",
    "\n",
    "print(\"MEAN RECALL:\", mean_recall/fold)\n",
    "print(\"MEAN PRECISION:\", mean_precision/fold)\n",
    "print(\"MEAN F1 SCORE:\", mean_f1/fold)\n",
    "cm = plot_cm(total_target_test, total_target_pred, target_classes)\n",
    "\n",
    "\n",
    "\n",
    "\n"
   ]
  },
  {
   "attachments": {},
   "cell_type": "markdown",
   "metadata": {},
   "source": [
    "### 2.1.2. Train-only, TVT 40-30-30 e 10x10CV, fazendo variar k na gama {1, 3, 5, …, 15}."
   ]
  },
  {
   "cell_type": "code",
   "execution_count": 10,
   "metadata": {},
   "outputs": [
    {
     "name": "stdout",
     "output_type": "stream",
     "text": [
      "----- TVT 40-30-30 -----\n",
      "-- 1st iteration (with val set)\n",
      "MEAN RECALL: 0.890625\n",
      "MEAN PRECISION: 0.920301053113553\n",
      "MEAN F1 SCORE: 0.8877378503452209 \n",
      "\n",
      "----- 10-FOLD CV -----\n",
      "-- k =  1\n",
      "MEAN RECALL: 0.9600000000000002\n",
      "MEAN PRECISION: 1.0\n",
      "MEAN F1 SCORE: 0.9788177339901478\n",
      "-- k =  3\n",
      "MEAN RECALL: 0.9466666666666669\n",
      "MEAN PRECISION: 1.0\n",
      "MEAN F1 SCORE: 0.9714285714285715\n",
      "-- k =  5\n",
      "MEAN RECALL: 0.9333333333333333\n",
      "MEAN PRECISION: 1.0\n",
      "MEAN F1 SCORE: 0.9634920634920636\n",
      "-- k =  7\n",
      "MEAN RECALL: 0.9333333333333333\n",
      "MEAN PRECISION: 1.0\n",
      "MEAN F1 SCORE: 0.9637383689107827\n",
      "-- k =  9\n",
      "MEAN RECALL: 0.9333333333333333\n",
      "MEAN PRECISION: 1.0\n",
      "MEAN F1 SCORE: 0.9634331186055324\n",
      "-- k =  11\n",
      "MEAN RECALL: 0.9333333333333336\n",
      "MEAN PRECISION: 1.0\n",
      "MEAN F1 SCORE: 0.9641978509492122\n",
      "-- k =  13\n",
      "MEAN RECALL: 0.9400000000000002\n",
      "MEAN PRECISION: 1.0\n",
      "MEAN F1 SCORE: 0.9681661049174661\n",
      "-- k =  15\n",
      "MEAN RECALL: 0.926666666666667\n",
      "MEAN PRECISION: 1.0\n",
      "MEAN F1 SCORE: 0.9605032696684239\n",
      "ABSOLUTE MEAN RECALL: 0.9383333333333336\n",
      "ABSOLUTE MEAN PRECISION: 1.0\n",
      "ABSOLUTE MEAN F1 SCORE: 0.966722135245275\n"
     ]
    },
    {
     "data": {
      "image/png": "[encoded data removed]",
      "text/plain": [
       "<Figure size 640x480 with 2 Axes>"
      ]
     },
     "metadata": {},
     "output_type": "display_data"
    }
   ],
   "source": [
    "## TVT 40-30-30\n",
    "print(\"----- TVT 40-30-30 -----\")\n",
    "\n",
    "target_classes = iris_classes\n",
    "input_train, input_val, input_test, target_train, target_val, target_test = tvt(iris_input, iris_target, 57.1428, 30) # 3 simples -> 70-100; 40-x; x = 40*100/70 = 57.1428 \n",
    "\n",
    "k_neigh = [1, 3, 5, 7, 9, 11, 13, 15]\n",
    "\n",
    "mean_recall = 0.00\n",
    "mean_precision = 0.00\n",
    "mean_f1 = 0.00\n",
    "\n",
    "print(\"-- 1st iteration (with val set)\")\n",
    "for k in k_neigh:\n",
    "    knn = KNeighborsClassifier(n_neighbors=k)\n",
    "    knn.fit(input_train, target_train)\n",
    "    target_val_pred = knn.predict(input_val)\n",
    "\n",
    "    recall, precision, f1 = exact_methods(target_val, target_val_pred, 'weighted')\n",
    "    #cm = plot_cm(target_val, target_val_pred, target_classes)\n",
    "\n",
    "    mean_recall += recall\n",
    "    mean_precision += precision\n",
    "    mean_f1 += f1\n",
    "\n",
    "print(\"MEAN RECALL:\", mean_recall/len(k_neigh))\n",
    "print(\"MEAN PRECISION:\", mean_precision/len(k_neigh))\n",
    "print(\"MEAN F1 SCORE:\", mean_f1/len(k_neigh), \"\\n\")\n",
    "\n",
    "\n",
    "### 10-FOLD CV\n",
    "print(\"----- 10-FOLD CV -----\")\n",
    "\n",
    "target_classes = iris_classes\n",
    "fold = 10\n",
    "kf_input_train, kf_input_test, kf_target_train, kf_target_test = k_fold_arrays(iris_input, iris_target, fold)\n",
    "\n",
    "\n",
    "absolute_mean_recall = 0.00\n",
    "absolute_mean_precision = 0.00\n",
    "absolute_mean_f1 = 0.00\n",
    "\n",
    "absolute_total_target_test = []\n",
    "absolute_total_target_pred = []\n",
    "\n",
    "for k in k_neigh:\n",
    "    mean_recall = 0.00\n",
    "    mean_precision = 0.00\n",
    "    mean_f1 = 0.00\n",
    "\n",
    "    print(\"-- k = \", k)\n",
    "    total_target_test = []\n",
    "    total_target_pred = []\n",
    "    for i in range(len(kf_target_test)):\n",
    "        input_train = kf_input_train[i]\n",
    "        input_test = kf_input_test[i]\n",
    "        target_train = kf_target_train[i]\n",
    "        target_test = kf_target_test[i]\n",
    "\n",
    "        knn = KNeighborsClassifier(n_neighbors=k)\n",
    "        knn.fit(input_train, target_train)\n",
    "        target_pred = knn.predict(input_test)\n",
    "        total_target_test.extend(target_test)\n",
    "        total_target_pred.extend(target_pred)\n",
    "\n",
    "        recall, precision, f1 = exact_methods(target_test, target_pred, 'weighted')\n",
    "        mean_recall += recall\n",
    "        mean_precision += precision\n",
    "        mean_f1 += f1\n",
    "\n",
    "\n",
    "    print(\"MEAN RECALL:\", mean_recall/fold)\n",
    "    print(\"MEAN PRECISION:\", mean_precision/fold)\n",
    "    print(\"MEAN F1 SCORE:\", mean_f1/fold)\n",
    "\n",
    "    absolute_mean_recall += mean_recall/fold\n",
    "    absolute_mean_precision += mean_precision/fold\n",
    "    absolute_mean_f1 += mean_f1/fold\n",
    "    absolute_total_target_test.extend(total_target_test)\n",
    "    absolute_total_target_pred.extend(total_target_pred)\n",
    "\n",
    "\n",
    "print(\"ABSOLUTE MEAN RECALL:\", absolute_mean_recall/len(k_neigh))\n",
    "print(\"ABSOLUTE MEAN PRECISION:\", absolute_mean_precision/len(k_neigh))\n",
    "print(\"ABSOLUTE MEAN F1 SCORE:\", absolute_mean_f1/len(k_neigh))\n",
    "cm = plot_cm(absolute_total_target_test, absolute_total_target_pred, target_classes)\n",
    "\n"
   ]
  },
  {
   "cell_type": "code",
   "execution_count": null,
   "metadata": {},
   "outputs": [],
   "source": [
    "\"\"\"\n",
    "from sklearn.metrics import accuracy_score\n",
    "\n",
    "X_train, X_test, y_train, y_test = tt(X, y, 0.5)\n",
    "knn = KNeighborsClassifier(n_neighbors=1)\n",
    "knn.fit(X_train, y_train) #train\n",
    "y_pred = knn.predict(X_test)\n",
    "\n",
    "X_train, X_test, y_train, y_test = train_test_split(X, y, test_size=0.3, random_state=1)\n",
    "acc = knn.score(X_test, y_test) #test\n",
    "\n",
    "from sklearn.model_selection import cross_val_score\n",
    "\n",
    "knn_cv = KNeighborsClassifier(n_neighbors=6)\n",
    "#train model with cv of 5 \n",
    "cv_scores = cross_val_score(knn_cv, X, y, cv=10)\n",
    "#print each cv score (accuracy) and average them\n",
    "print(cv_scores)\n",
    "print('cv_scores mean:{}'.format(np.mean(cv_scores)))\n",
    "\n",
    "neighbours = np.linspace(1, 15, 8)\n",
    "\n",
    "for n in neighbours:\n",
    "    knn = KNeighborsClassifier(n_neighbors=int(n))\n",
    "    knn.fit(X, y)\n",
    "\n",
    "neigh = np.linspace(1, 15, 8)\n",
    "print(neigh)\n",
    "\"\"\""
   ]
  },
  {
   "cell_type": "code",
   "execution_count": null,
   "metadata": {},
   "outputs": [],
   "source": [
    "\"\"\"\n",
    "# TT, TVT e nCV\n",
    "\n",
    "#def tt(X, y, test_size):\n",
    "\n",
    "def cross_validation(train_X, train_y, num_folds=10, k=1):\n",
    "    dataset = list()\n",
    "    dataset_split = list()\n",
    "    val_acc = list()\n",
    "    \n",
    "    for i in range(len(train_X)):\n",
    "        data = np.append(train_X[i],train_y[i])\n",
    "        dataset.append(data)\n",
    "    \n",
    "    dataset_copy = list(dataset)\n",
    "    fold_size = int(len(dataset) / num_folds)\n",
    "    \n",
    "    for i in range(num_folds):\n",
    "        fold = list()\n",
    "        while len(fold) < fold_size:\n",
    "            index = randrange(len(dataset_copy))\n",
    "            fold.append(dataset_copy.pop(index))\n",
    "        dataset_split.append(fold)\n",
    "        \n",
    "    for folds in dataset_split:\n",
    "        train_set= folds\n",
    "        train_set = np.array(train_set)\n",
    "        test_set = list()\n",
    "        for row in folds:\n",
    "            row_copy = list(row)\n",
    "            test_set.append(row_copy)\n",
    "            row_copy[-1] = None\n",
    "        test_set = np.array(test_set)\n",
    "        train_x = train_set[:, :-1]\n",
    "        train_y = train_set[:,-1]\n",
    "        test_x = test_set[:, :-1]\n",
    "        predicted = predict(train_x,train_y, test_x, k)\n",
    "        actual = [row[-1] for row in fold]\n",
    "        accuracy = compute_accuracy(actual, predicted)\n",
    "        val_acc.append(accuracy)\n",
    "        \n",
    "    val_acc_var = statistics.variance(val_acc)\n",
    "    vall_acc = sum(val_acc)/len(val_acc)\n",
    "\n",
    "    return vall_acc, val_acc_var\n",
    "\n",
    "\"\"\""
   ]
  },
  {
   "attachments": {},
   "cell_type": "markdown",
   "metadata": {},
   "source": [
    "### 2.1.3. Analise os resultados em termos de **bias-variance** e **underfitting-overfitting**\n",
    "\n",
    "Thinking about a dartboard:\n",
    "- Low bias,  low variance  : population is **close** to center; individuals are **close** to each other\n",
    "- Low bias,  high variance : population is **close** to center; individuals are **far** from each other\n",
    "- High bias, low variance  : population is **far** from the center; individuals are **close** to each other\n",
    "- High bias, high variance : population is **far** from the center; individuals are **far** from each other\n",
    "    \n",
    "\n",
    "**Underfitting**: model does not predict the data very well <br>\n",
    "**Overfitting**: model predicts the data too well <br>\n",
    "\n",
    "Our model:\n",
    "- Low bias: The predicted results are almost always right\n",
    "- Low variance: The results are close to each other, as almost all of them are in the same position\n",
    "- Overfitted: there are few classes and features for classification. Classification is very easy.\n",
    "\n"
   ]
  },
  {
   "attachments": {},
   "cell_type": "markdown",
   "metadata": {},
   "source": [
    "### 2.2. Repita a experiência anterior usando o algoritmo ReliefF para obter o ranking de features e seleccionar o modelo ideal (em termos de parâmetros e features a utilizar)\n",
    "\n",
    "### 2.2.1. Utilize a métrica F1-score como critério óptimo para a escolha de features e parâmetros a utilizar"
   ]
  },
  {
   "cell_type": "code",
   "execution_count": 11,
   "metadata": {},
   "outputs": [
    {
     "name": "stdout",
     "output_type": "stream",
     "text": [
      "[3 0 2 1]\n",
      "[-34. -56. -50. -12.]\n"
     ]
    }
   ],
   "source": [
    "### TT 70-30\n",
    "input_data, target_data = iris_input, iris_target\n",
    "\n",
    "n_neig = 1\n",
    "n_feat = 2\n",
    "fs = ReliefF(n_neighbors=n_neig, n_features_to_keep=n_feat)\n",
    "input_data = fs.fit_transform(input_data, target_data)\n",
    "\n",
    "# print(\"--------------\")\n",
    "# print(\"(No. of tuples, No. of Columns before ReliefF) : \"+str(input_data.shape)+\n",
    "      # \"\\n(No. of tuples , No. of Columns after ReliefF) : \"+str(input_train.shape))\n",
    "\n",
    "print(fs.top_features)\n",
    "print(fs.feature_scores)\n"
   ]
  },
  {
   "attachments": {},
   "cell_type": "markdown",
   "metadata": {},
   "source": [
    "### 2.2.2. Visualize o “gráfico do cotovelo” relativo ao desempenho do modelo (no conjunto de validação) à medida que se vão adicionando features\n",
    "\n",
    "Distortion increases as we consider more features"
   ]
  },
  {
   "cell_type": "code",
   "execution_count": 12,
   "metadata": {},
   "outputs": [
    {
     "name": "stdout",
     "output_type": "stream",
     "text": [
      "[3 0 2 1]\n",
      "4\n",
      "Feature  3\n"
     ]
    },
    {
     "data": {
      "image/png": "[encoded data removed]",
      "text/plain": [
       "<Figure size 640x480 with 1 Axes>"
      ]
     },
     "metadata": {},
     "output_type": "display_data"
    },
    {
     "name": "stdout",
     "output_type": "stream",
     "text": [
      "Feature  0\n"
     ]
    },
    {
     "data": {
      "image/png": "[encoded data removed]",
      "text/plain": [
       "<Figure size 640x480 with 1 Axes>"
      ]
     },
     "metadata": {},
     "output_type": "display_data"
    },
    {
     "name": "stdout",
     "output_type": "stream",
     "text": [
      "Feature  2\n"
     ]
    },
    {
     "data": {
      "image/png": "[encoded data removed]",
      "text/plain": [
       "<Figure size 640x480 with 1 Axes>"
      ]
     },
     "metadata": {},
     "output_type": "display_data"
    },
    {
     "name": "stdout",
     "output_type": "stream",
     "text": [
      "Feature  1\n"
     ]
    },
    {
     "data": {
      "image/png": "[encoded data removed]",
      "text/plain": [
       "<Figure size 640x480 with 1 Axes>"
      ]
     },
     "metadata": {},
     "output_type": "display_data"
    }
   ],
   "source": [
    "input_data, target_data = iris_input, iris_target\n",
    "\n",
    "n_neig = 1\n",
    "n_feat = 2\n",
    "\n",
    "fs = ReliefF(n_neighbors=n_neig, n_features_to_keep=n_feat)\n",
    "test_data = fs.fit_transform(input_data, target_data)\n",
    "\n",
    "top_features = fs.top_features\n",
    "print(top_features)\n",
    "total_features = len(input_data[0])\n",
    "print(total_features)\n",
    "for i in range(1, total_features+1):\n",
    "    print(\"Feature \", top_features[i-1])\n",
    "    # create indexes\n",
    "    indexes = top_features[:i]\n",
    "    \n",
    "    input_data = iris_input[:, indexes]\n",
    "    \n",
    "    df = pd.DataFrame(input_data)\n",
    "    df['target'] = target_data\n",
    "    \n",
    "    distortions = []\n",
    "    K = range(1,10)\n",
    "    for k in K:\n",
    "        kmeanModel = KMeans(n_clusters=k)\n",
    "        kmeanModel.fit(df)\n",
    "        distortions.append(kmeanModel.inertia_)\n",
    "    plt.figure()\n",
    "    plt.plot(K, distortions, 'bx-')\n",
    "    plt.xlabel('k')\n",
    "    plt.ylabel('Distortion')\n",
    "    plt.title('The Elbow Method showing the optimal k')\n",
    "    plt.show()\n",
    "\n",
    "\n",
    "#df = pd.DataFrame(iris_data.data, columns = iris_data.feature_names)\n",
    "\n"
   ]
  },
  {
   "cell_type": "code",
   "execution_count": null,
   "metadata": {},
   "outputs": [],
   "source": [
    "\"\"\"\n",
    "\n",
    "## TVT 40-30-30\n",
    "print(\"----- TVT 40-30-30 -----\")\n",
    "\n",
    "target_classes = iris_classes\n",
    "input_train, input_val, input_test, target_train, target_val, target_test = tvt(iris_input, iris_target, 57.1428, 30) # 3 simples -> 70-100; 40-x; x = 40*100/70 = 57.1428 \n",
    "\n",
    "k_neigh = [1, 3, 5, 7, 9, 11, 13, 15]\n",
    "\n",
    "mean_recall = 0.00\n",
    "mean_precision = 0.00\n",
    "mean_f1 = 0.00\n",
    "\n",
    "print(\"-- 1st iteration (with val set)\")\n",
    "for k in k_neigh:\n",
    "    knn = KNeighborsClassifier(n_neighbors=k)\n",
    "    knn.fit(input_train, target_train)\n",
    "    target_val_pred = knn.predict(input_val)\n",
    "\n",
    "    recall, precision, f1 = exact_methods(target_val, target_val_pred, 'weighted')\n",
    "    #cm = plot_cm(target_val, target_val_pred, target_classes)\n",
    "\n",
    "    mean_recall += recall\n",
    "    mean_precision += precision\n",
    "    mean_f1 += f1\n",
    "\n",
    "print(\"MEAN RECALL:\", mean_recall/len(k_neigh))\n",
    "print(\"MEAN PRECISION:\", mean_precision/len(k_neigh))\n",
    "print(\"MEAN F1 SCORE:\", mean_f1/len(k_neigh), \"\\n\")\n",
    "\n",
    "\n",
    "\n",
    "neighbours = 5\n",
    "x_relief = relief(X, y, neighbours, 10) # TODO qual o numero de features que se quer\n",
    "# TODO tem que se alterar o algoritmo de relief?\n",
    "print(x_relief.shape, y.shape)\n",
    "\n",
    "X_train, X_test, y_train, y_test = train_test_split(x_relief, y, test_size=0.3, random_state=1)\n",
    "\n",
    "knn = KNeighborsClassifier(n_neighbors=2)\n",
    "knn.fit(X_train, y_train) #train\n",
    "y_pred = knn.predict(X_test)\n",
    "\n",
    "f1_score(y_pred, y_test, average=None)\n",
    "\n",
    "\"\"\"\n",
    "\n",
    "error_rate = []# Will take some time\n",
    "for i in range(1, X_train.shape[1]+1):\n",
    "    print(i)\n",
    "    knn = KNeighborsClassifier(n_neighbors=i)\n",
    "    knn.fit(X_train,y_train)\n",
    "    pred_i = knn.predict(X_test)\n",
    "    error_rate.append(np.mean(pred_i != y_test))\n",
    "\n",
    "plt.figure(figsize=(10,6))\n",
    "plt.plot(range(1,X_train.shape[1]+1),error_rate,color='blue', linestyle='dashed', marker='o',\n",
    " markerfacecolor='red', markersize=10)\n",
    "plt.title('Error Rate vs. K Value')\n",
    "plt.xlabel('K')\n",
    "plt.ylabel('Error Rate')"
   ]
  },
  {
   "cell_type": "code",
   "execution_count": null,
   "metadata": {},
   "outputs": [],
   "source": [
    "### TRAIN-ONLY\n",
    "print(\"----- Train-only -----\")\n",
    "\n",
    "target_classes = iris_classes\n",
    "input_train, target_train = iris_input, iris_target\n",
    "\n",
    "## 2.3 ------\n",
    "\n",
    "knn = KNeighborsClassifier(n_neighbors=1)\n",
    "knn.fit(input_train, target_train)\n",
    "target_pred = knn.predict(input_train)\n",
    "\n",
    "recall, precision, f1 = exact_methods(target_train, target_pred, 'weighted')\n",
    "cm = plot_cm(target_train, target_pred, target_classes)\n",
    "\n",
    "print(\"Recall: \", recall)\n",
    "print(\"Precision: \", precision)\n",
    "print(\"F1 score: \", f1, \"\\n\")\n",
    "\n",
    "\n",
    "\n",
    "### TT 70-30\n",
    "print(\"----- TT 70-30 -----\")\n",
    "\n",
    "target_classes = iris_classes\n",
    "input_train, input_test, target_train, target_test = tt(iris_input, iris_target, 30)\n",
    "\n",
    "## 2.3 ------\n",
    "\n",
    "knn = KNeighborsClassifier(n_neighbors=1)\n",
    "knn.fit(input_train, target_train)\n",
    "target_pred = knn.predict(input_test)\n",
    "\n",
    "recall, precision, f1 = exact_methods(target_test, target_pred, 'weighted')\n",
    "cm = plot_cm(target_test, target_pred, target_classes)\n",
    "\n",
    "print(\"Recall: \", recall)\n",
    "print(\"Precision: \", precision)\n",
    "print(\"F1 score: \", f1, \"\\n\")\n",
    "\n",
    "\n",
    "\n",
    "### 10-FOLD CV\n",
    "print(\"----- 10-FOLD CV -----\")\n",
    "\n",
    "target_classes = iris_classes\n",
    "fold = 10\n",
    "kf_input_train, kf_input_test, kf_target_train, kf_target_test = k_fold_arrays(iris_input, iris_target, fold)\n",
    "\n",
    "## 2.3 ------\n",
    "\n",
    "mean_recall = 0.00\n",
    "mean_precision = 0.00\n",
    "mean_f1 = 0.00\n",
    "total_target_test = []\n",
    "total_target_pred = []\n",
    "for i in range(len(kf_target_test)):\n",
    "    input_train = kf_input_train[i]\n",
    "    input_test = kf_input_test[i]\n",
    "    target_train = kf_target_train[i]\n",
    "    target_test = kf_target_test[i]\n",
    "\n",
    "    knn = KNeighborsClassifier(n_neighbors=1)\n",
    "    knn.fit(input_train, target_train)\n",
    "    target_pred = knn.predict(input_test)\n",
    "    total_target_test.extend(target_test)\n",
    "    total_target_pred.extend(target_pred)\n",
    "\n",
    "    recall, precision, f1 = exact_methods(target_test, target_pred, 'weighted')\n",
    "    mean_recall += recall\n",
    "    mean_precision += precision\n",
    "    mean_f1 += f1\n",
    "\n",
    "\n",
    "print(\"MEAN RECALL:\", mean_recall/fold)\n",
    "print(\"MEAN PRECISION:\", mean_precision/fold)\n",
    "print(\"MEAN F1 SCORE:\", mean_f1/fold)\n",
    "cm = plot_cm(total_target_test, total_target_pred, target_classes)\n",
    "\n",
    "\n",
    "\n",
    "\n"
   ]
  },
  {
   "cell_type": "markdown",
   "metadata": {},
   "source": [
    "# 3. Análise ao *dataset* original"
   ]
  },
  {
   "cell_type": "code",
   "execution_count": null,
   "metadata": {},
   "outputs": [],
   "source": [
    "loc = []\n",
    "\n",
    "for i in range (0,15):\n",
    "    loc.append(\"FORTH_TRACE_DATASET-master/part\" + str(i) + \"/part\" + str(i) + \"dev2.csv\")\n",
    "\n",
    "array = []\n",
    "for file in loc:\n",
    "    df = pd.read_csv(file, sep=',', header=None)\n",
    "    array.append(df.to_numpy())\n",
    "\n",
    "array = np.concatenate(array)\n",
    "print(array.shape)"
   ]
  },
  {
   "attachments": {},
   "cell_type": "markdown",
   "metadata": {},
   "source": [
    "___\n",
    "\n",
    "# 4. Repita o ponto 2 no dataset de actividades humanos utilizado neste trabalho, usando data splitting **TVT** (apenas TVT; CV não é para fazer), uma **rede neuronal feedforward** (MLP) com **3 camadas**, **número variável de neurónios na camada escondida**, função de **activação logística** em todos os neurónios, **batch learning** e as features seleccionadas nas alíneas anteriores:"
   ]
  },
  {
   "attachments": {},
   "cell_type": "markdown",
   "metadata": {},
   "source": [
    "### 4.1. Com velocidade de aprendizagem fixo"
   ]
  },
  {
   "cell_type": "code",
   "execution_count": null,
   "metadata": {},
   "outputs": [],
   "source": [
    "input_data, target_data = iris_input, iris_target\n",
    "\n",
    "input_train, input_val, input_test, target_train, target_val, target_test = tvt(input_data, target_data, 30, 30)\n",
    "\n",
    "feedforward = MLPClassifier(learning_rate='adaptive', activation='logistic', batch_size='lbfgs', solver='lbfgs', alpha=1e-5, hidden_layer_sizes=(5, ), random_state=1)\n",
    "\n",
    "feedforward.fit(input_train, target_train)\n",
    "\n",
    "print(target_test)\n",
    "target_pred = feedforward.predict(input_test)\n",
    "print(target_pred)\n",
    "\n",
    "recall, precision, f1 = exact_methods(target_test, target_pred, None)"
   ]
  },
  {
   "attachments": {},
   "cell_type": "markdown",
   "metadata": {},
   "source": [
    "### 5. Desenvolva de raiz a sua própria rede neuronal (de acordo com o especificado na alínea 4), usando para treino o algoritmo de retropropagação do erro."
   ]
  },
  {
   "cell_type": "code",
   "execution_count": 56,
   "metadata": {},
   "outputs": [
    {
     "name": "stdout",
     "output_type": "stream",
     "text": [
      "\n",
      "Output:  [[2.0000e+00 3.0317e+00 9.0450e+00 ... 6.8849e-01 1.2654e+00 6.3629e+01]\n",
      " [2.0000e+00 2.9591e+00 9.0436e+00 ... 6.8849e-01 1.2741e+00 8.3160e+01]\n",
      " [2.0000e+00 2.9465e+00 9.0545e+00 ... 6.7857e-01 1.2675e+00 1.0269e+02]\n",
      " ...\n",
      " [2.0000e+00 1.7283e+00 9.5641e+00 ... 9.2857e-01 1.3531e+00 1.0420e+06]\n",
      " [2.0000e+00 1.7285e+00 9.5646e+00 ... 9.0675e-01 1.3377e+00 1.0420e+06]\n",
      " [2.0000e+00 1.6802e+00 9.4907e+00 ... 8.6310e-01 1.3180e+00 1.0420e+06]]\n"
     ]
    },
    {
     "ename": "ValueError",
     "evalue": "shapes (781822,11) and (781822,4) not aligned: 11 (dim 1) != 781822 (dim 0)",
     "output_type": "error",
     "traceback": [
      "\u001b[1;31m---------------------------------------------------------------------------\u001b[0m",
      "\u001b[1;31mValueError\u001b[0m                                Traceback (most recent call last)",
      "Cell \u001b[1;32mIn [56], line 34\u001b[0m\n\u001b[0;32m     28\u001b[0m \u001b[39m#print(\"\\nLEN: \", len(input_data[0]))\u001b[39;00m\n\u001b[0;32m     29\u001b[0m \u001b[39m#print(\"\\nW1: \", nn.weights1)\u001b[39;00m\n\u001b[0;32m     30\u001b[0m \u001b[39m#print(\"\\nW2: \", nn.weights2)\u001b[39;00m\n\u001b[0;32m     31\u001b[0m \u001b[39m#print(\"\\nW3: \", nn.weights3)\u001b[39;00m\n\u001b[0;32m     32\u001b[0m \u001b[39mprint\u001b[39m(\u001b[39m\"\u001b[39m\u001b[39m\\n\u001b[39;00m\u001b[39mOutput: \u001b[39m\u001b[39m\"\u001b[39m, nn\u001b[39m.\u001b[39minput)\n\u001b[1;32m---> 34\u001b[0m ola \u001b[39m=\u001b[39m nn\u001b[39m.\u001b[39;49mfeedforward()\n",
      "Cell \u001b[1;32mIn [56], line 11\u001b[0m, in \u001b[0;36mNeuralNetwork.feedforward\u001b[1;34m(self)\u001b[0m\n\u001b[0;32m     10\u001b[0m \u001b[39mdef\u001b[39;00m \u001b[39mfeedforward\u001b[39m(\u001b[39mself\u001b[39m): \u001b[39m#sigmoid/logistic\u001b[39;00m\n\u001b[1;32m---> 11\u001b[0m     \u001b[39mself\u001b[39m\u001b[39m.\u001b[39mlayer1 \u001b[39m=\u001b[39m sigmoid(np\u001b[39m.\u001b[39;49mdot(\u001b[39mself\u001b[39;49m\u001b[39m.\u001b[39;49minput, \u001b[39mself\u001b[39;49m\u001b[39m.\u001b[39;49mweights1))\n\u001b[0;32m     12\u001b[0m     \u001b[39mself\u001b[39m\u001b[39m.\u001b[39mlayer2 \u001b[39m=\u001b[39m sigmoid(np\u001b[39m.\u001b[39mdot(\u001b[39mself\u001b[39m\u001b[39m.\u001b[39mlayer1, \u001b[39mself\u001b[39m\u001b[39m.\u001b[39mweights2))\n\u001b[0;32m     13\u001b[0m     \u001b[39mself\u001b[39m\u001b[39m.\u001b[39moutput \u001b[39m=\u001b[39m sigmoid(np\u001b[39m.\u001b[39mdot(\u001b[39mself\u001b[39m\u001b[39m.\u001b[39mlayer2, \u001b[39mself\u001b[39m\u001b[39m.\u001b[39mweights3))\n",
      "File \u001b[1;32m<__array_function__ internals>:180\u001b[0m, in \u001b[0;36mdot\u001b[1;34m(*args, **kwargs)\u001b[0m\n",
      "\u001b[1;31mValueError\u001b[0m: shapes (781822,11) and (781822,4) not aligned: 11 (dim 1) != 781822 (dim 0)"
     ]
    }
   ],
   "source": [
    "class NeuralNetwork:\n",
    "    def __init__(self, x, y):\n",
    "        self.input      = x\n",
    "        self.weights1   = np.random.rand(len(self.input),4) \n",
    "        self.weights2   = np.random.rand(len(self.input),4)      \n",
    "        self.weights3   = np.random.rand(4,1)             \n",
    "        self.y          = y\n",
    "        self.output     = np.zeros(y.shape)\n",
    "\n",
    "    def feedforward(self): #sigmoid/logistic\n",
    "        self.layer1 = sigmoid(np.dot(self.input, self.weights1))\n",
    "        self.layer2 = sigmoid(np.dot(self.layer1, self.weights2))\n",
    "        self.output = sigmoid(np.dot(self.layer2, self.weights3))\n",
    "\n",
    "    def backprop(self):\n",
    "        # application of the chain rule to find derivative of the loss function with respect to weights2 and weights1\n",
    "        d_weights2 = np.dot(self.layer1.T, (2*(self.y - self.output) * sigmoid_derivative(self.output)))\n",
    "        d_weights1 = np.dot(self.input.T,  (np.dot(2*(self.y - self.output) * sigmoid_derivative(self.output), self.weights2.T) * sigmoid_derivative(self.layer1)))\n",
    "\n",
    "        # update the weights with the derivative (slope) of the loss function\n",
    "        self.weights1 += d_weights1\n",
    "        self.weights2 += d_weights2\n",
    "\n",
    "\n",
    "input_data, target_data = hacti_input, hacti_target\n",
    "nn = NeuralNetwork(input_data, target_data)\n",
    "\n",
    "#print(\"\\nLEN: \", len(input_data[0]))\n",
    "#print(\"\\nW1: \", nn.weights1)\n",
    "#print(\"\\nW2: \", nn.weights2)\n",
    "#print(\"\\nW3: \", nn.weights3)\n",
    "print(\"\\nOutput: \", nn.input)\n",
    "\n",
    "ola = nn.feedforward()"
   ]
  }
 ],
 "metadata": {
  "kernelspec": {
   "display_name": "Python 3",
   "language": "python",
   "name": "python3"
  },
  "language_info": {
   "codemirror_mode": {
    "name": "ipython",
    "version": 3
   },
   "file_extension": ".py",
   "mimetype": "text/x-python",
   "name": "python",
   "nbconvert_exporter": "python",
   "pygments_lexer": "ipython3",
   "version": "3.9.13"
  },
  "orig_nbformat": 4,
  "vscode": {
   "interpreter": {
    "hash": "d9e7db499751c2962e04d58d0fc15e80a4a2bcb2fa278d126f3ba3a8ebfee268"
   }
  }
 },
 "nbformat": 4,
 "nbformat_minor": 2
}

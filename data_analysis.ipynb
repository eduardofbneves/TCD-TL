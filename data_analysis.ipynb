{
 "cells": [
  {
   "cell_type": "markdown",
   "metadata": {},
   "source": [
    "\n",
    "- Column1: Device ID\n",
    "- Column2: accelerometer x\n",
    "- Column3: accelerometer y\n",
    "- Column4: accelerometer z\n",
    "- Column5: gyroscope x\n",
    "- Column6: gyroscope y\n",
    "- Column7: gyroscope z\n",
    "- Column8: magnetometer x\n",
    "- Column9: magnetometer y\n",
    "- Column10: magnetometer z\n",
    "- Column11: Timestamp\n",
    "- Column12: Activity Label (16 atividades)\n"
   ]
  },
  {
   "cell_type": "code",
   "execution_count": 17,
   "metadata": {},
   "outputs": [],
   "source": [
    "\n",
    "import numpy as np\n",
    "import pandas as pd\n",
    "import matplotlib.pyplot as plt\n",
    "from scipy import stats\n",
    "from sklearn.model_selection import train_test_split\n",
    "from sklearn.preprocessing import StandardScaler\n",
    "from sklearn.decomposition import PCA\n",
    "import utils\n"
   ]
  },
  {
   "cell_type": "code",
   "execution_count": 44,
   "metadata": {},
   "outputs": [
    {
     "data": {
      "text/plain": [
       "array([[ 2.0000e+00,  2.9591e+00,  9.0436e+00,  3.1400e+00,  4.0588e-01,\n",
       "         4.6682e+00, -1.0148e-01,  5.8385e-01,  6.8849e-01,  1.2741e+00,\n",
       "         8.3160e+01,  1.0000e+00],\n",
       "       [ 2.0000e+00,  2.9465e+00,  9.0545e+00,  3.0799e+00,  2.4230e-01,\n",
       "         5.5225e+00,  3.4857e-01,  5.6522e-01,  6.7857e-01,  1.2675e+00,\n",
       "         1.0269e+02,  1.0000e+00],\n",
       "       [ 2.0000e+00,  2.7898e+00,  9.0528e+00,  3.0726e+00,  4.9858e-01,\n",
       "         6.3463e+00,  6.1127e-01,  5.6108e-01,  6.5476e-01,  1.2610e+00,\n",
       "         1.2222e+02,  1.0000e+00],\n",
       "       [ 2.0000e+00,  2.6924e+00,  9.0377e+00,  2.9794e+00,  6.3197e-01,\n",
       "         6.6972e+00,  1.0056e+00,  5.7764e-01,  6.9246e-01,  1.2675e+00,\n",
       "         1.4175e+02,  1.0000e+00],\n",
       "       [ 2.0000e+00,  2.6317e+00,  9.1825e+00,  2.9302e+00,  8.4115e-01,\n",
       "         4.9580e+00,  4.8255e-01,  5.7557e-01,  6.7262e-01,  1.2697e+00,\n",
       "         1.6129e+02,  1.0000e+00],\n",
       "       [ 2.0000e+00,  2.6199e+00,  9.1707e+00,  2.9549e+00,  7.3496e-01,\n",
       "         2.2883e+00, -1.2032e-01,  5.6729e-01,  6.5278e-01,  1.2741e+00,\n",
       "         1.8082e+02,  1.0000e+00],\n",
       "       [ 2.0000e+00,  2.7168e+00,  9.1360e+00,  3.0008e+00,  7.7470e-01,\n",
       "         3.8139e-01, -4.8699e-01,  5.3623e-01,  6.6667e-01,  1.2719e+00,\n",
       "         2.0035e+02,  1.0000e+00],\n",
       "       [ 2.0000e+00,  2.7892e+00,  9.0759e+00,  3.0119e+00,  8.1915e-01,\n",
       "         1.3730e-01, -6.1766e-01,  5.6522e-01,  6.3690e-01,  1.2675e+00,\n",
       "         2.1988e+02,  1.0000e+00],\n",
       "       [ 2.0000e+00,  2.8740e+00,  9.0533e+00,  3.0580e+00,  9.3713e-01,\n",
       "         5.7971e-01, -2.0990e-01,  5.6315e-01,  6.9444e-01,  1.2785e+00,\n",
       "         2.3941e+02,  1.0000e+00]])"
      ]
     },
     "execution_count": 44,
     "metadata": {},
     "output_type": "execute_result"
    }
   ],
   "source": [
    "window_lenght = 20\n",
    "loc = []\n",
    "\n",
    "for i in range (0,15):\n",
    "    loc.append(\"FORTH_TRACE_DATASET-master/part\" + str(i) + \"/part\" + str(i) + \"dev2.csv\")\n",
    "\n",
    "df = pd.read_csv(loc[0], sep=',', header=None)\n",
    "array = df.to_numpy()\n",
    "\n",
    "t_acc = np.sqrt(np.add(np.square(array[:,1]),\n",
    "                       np.square(array[:,2]),\n",
    "                       np.square(array[:,3])))\n",
    "\n",
    "t_gyr = np.sqrt(np.add(np.square(array[:,4]),\n",
    "                       np.square(array[:,5]),\n",
    "                       np.square(array[:,6])))\n",
    "\n",
    "t_mag = np.sqrt(np.add(np.square(array[:,7]),\n",
    "                       np.square(array[:,8]),\n",
    "                       np.square(array[:,9])))\n",
    "array[1:10]"
   ]
  },
  {
   "cell_type": "code",
   "execution_count": 19,
   "metadata": {},
   "outputs": [
    {
     "data": {
      "text/plain": [
       "<Figure size 432x288 with 0 Axes>"
      ]
     },
     "metadata": {},
     "output_type": "display_data"
    },
    {
     "data": {
      "image/png": "[encoded data removed]",
      "text/plain": [
       "<Figure size 432x288 with 3 Axes>"
      ]
     },
     "metadata": {
      "needs_background": "light"
     },
     "output_type": "display_data"
    }
   ],
   "source": [
    "\n",
    "\n",
    "# act1 = t_acc[array[:,-1]==5]\n",
    "\n",
    "activities = np.arange(1, 17) # nao sei se util\n",
    "box_acc = [] # TODO ver se dá para fazer isto com np.array\n",
    "box_gyr = []\n",
    "box_mag = []\n",
    "for i in range(1,17):\n",
    "    act = (array[:,-1]==i)\n",
    "    #length = np.sum(act)\n",
    "    box_acc.append(t_acc[act]) # TODO outra forma?\n",
    "    box_gyr.append(t_gyr[act])\n",
    "    box_mag.append(t_mag[act])\n",
    "\n",
    "#box_acc = np.array(box_acc)\n",
    "plt.figure()\n",
    "fig, axs = plt.subplots(3)\n",
    "axs[0].boxplot(box_acc)\n",
    "axs[1].boxplot(box_gyr)\n",
    "axs[2].boxplot(box_mag)\n",
    "plt.show()"
   ]
  },
  {
   "cell_type": "code",
   "execution_count": 20,
   "metadata": {},
   "outputs": [],
   "source": [
    "\n",
    "# desvio e outliers para cada k = 3, 3.5, 4\n",
    "d = []\n",
    "outliersk = [] \n",
    "\n",
    "x_density = 5 # percentage\n",
    "\n",
    "# for c, d in zip(a, b) itera alternadamente cada lista no mesmo loop\n",
    "for box in ([box_acc, box_gyr, box_mag]):\n",
    "    for i in range(16):\n",
    "        q1 = np.quantile(box[:][i], 0.25)\n",
    "        q3 = np.quantile(box[:][i], 0.75)\n",
    "        #av = np.average(box[:][i])\n",
    "        \n",
    "        iqr = q3-q1\n",
    "        upper_bound = q3+(1.5*iqr)\n",
    "        lower_bound = q1-(1.5*iqr)\n",
    "    \n",
    "        outliers = box[:][i][(box[:][i] <= lower_bound) | (box[:][i] >= upper_bound)]\n",
    "        out_bool = (box[:][i] <= lower_bound) | (box[:][i] >= upper_bound)\n",
    "        #print('The following are the outliers in the boxplot:{}'.format(outliers))\n",
    "        box[:][i] = box[:][i][(box[:][i] >= lower_bound) & (box[:][i] <= upper_bound)]\n",
    "        \n",
    "        #unique, counts = np.unique(out_bool, return_counts=True)\n",
    "        #desvios\n",
    "        counts = np.count_nonzero(out_bool==True)\n",
    "        d.append((counts/out_bool.size)*100) # TODO se a coluna nao tiver desvios\n",
    "        \n",
    "        zscore = stats.zscore(box[:][i], axis=0, ddof=0, nan_policy='propagate')\n",
    "        outliersk.append(box[:][i][(zscore <= -3) | (zscore >= 3)])\n",
    "        #print('The following are the outliers from the z-score test: {}'.format(outliersk[:][i]))\n",
    "        \n",
    "        #iterar para cada coluna\n",
    "        centroids, cluster = utils.k_means(box[:][i], 3)\n"
   ]
  },
  {
   "cell_type": "code",
   "execution_count": 21,
   "metadata": {},
   "outputs": [],
   "source": [
    "t_out, td = utils.get_outliers(t_acc)\n",
    "p = t_out.shape[0]\n",
    "acc_out = utils.inject_outliers(10, 4, t_out, p)\n",
    "# os valores mudam mesmo apesar do teste as array dar igual"
   ]
  },
  {
   "cell_type": "code",
   "execution_count": 22,
   "metadata": {},
   "outputs": [],
   "source": [
    "coef = []\n",
    "for vec in box_acc:\n",
    "    \n",
    "    n = vec.size    \n",
    "    ran = np.ptp(vec)\n",
    "    test = np.random.rand(n)*ran\n",
    "    #print(np.reshape(test[:n], (-1,1)))\n",
    "    #print(np.reshape(vec[:n], (-1,1)).shape)\n",
    "    test = np.append(test[:n], test[:n]).reshape(-1, 2)\n",
    "    coef.append(utils.fit_linear(test, vec, n))\n",
    "\n"
   ]
  },
  {
   "cell_type": "code",
   "execution_count": 23,
   "metadata": {},
   "outputs": [],
   "source": [
    "\n",
    "for i in range(16):\n",
    "    stats.kstest(box_acc[:][i], 'norm') # if follows a gaussian\n"
   ]
  },
  {
   "cell_type": "code",
   "execution_count": 26,
   "metadata": {},
   "outputs": [
    {
     "name": "stdout",
     "output_type": "stream",
     "text": [
      "[0.55218625 0.44781375]\n"
     ]
    }
   ],
   "source": [
    "\n",
    "\n",
    "X_train, X_test, y_train, y_test = train_test_split(test, vec, test_size=0.2, random_state=0)\n",
    "sc = StandardScaler()\n",
    "X_train = sc.fit_transform(X_train)\n",
    "X_test = sc.transform(X_test)\n",
    "\n",
    "pca = PCA()\n",
    "X_train = pca.fit_transform(X_train)\n",
    "X_test = pca.transform(X_test)\n",
    "var = pca.explained_variance_ratio_\n",
    "print(var)"
   ]
  },
  {
   "cell_type": "markdown",
   "metadata": {},
   "source": []
  }
 ],
 "metadata": {
  "kernelspec": {
   "display_name": "Python 3.9.12 ('base')",
   "language": "python",
   "name": "python3"
  },
  "language_info": {
   "codemirror_mode": {
    "name": "ipython",
    "version": 3
   },
   "file_extension": ".py",
   "mimetype": "text/x-python",
   "name": "python",
   "nbconvert_exporter": "python",
   "pygments_lexer": "ipython3",
   "version": "3.9.12"
  },
  "orig_nbformat": 4,
  "vscode": {
   "interpreter": {
    "hash": "451f9409e4a1d80d0e57066b36b4624c2c0f11dfc98b1c0bd8da4a3c0fa8d9f4"
   }
  }
 },
 "nbformat": 4,
 "nbformat_minor": 2
}

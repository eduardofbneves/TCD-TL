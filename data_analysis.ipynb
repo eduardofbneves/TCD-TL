{
 "cells": [
  {
   "cell_type": "markdown",
   "metadata": {},
   "source": [
    "\n",
    "- Column1: Device ID\n",
    "- Column2: accelerometer x\n",
    "- Column3: accelerometer y\n",
    "- Column4: accelerometer z\n",
    "- Column5: gyroscope x\n",
    "- Column6: gyroscope y\n",
    "- Column7: gyroscope z\n",
    "- Column8: magnetometer x\n",
    "- Column9: magnetometer y\n",
    "- Column10: magnetometer z\n",
    "- Column11: Timestamp\n",
    "- Column12: Activity Label (16 atividades)\n"
   ]
  },
  {
   "cell_type": "code",
   "execution_count": 27,
   "metadata": {},
   "outputs": [],
   "source": [
    "\n",
    "import numpy as np\n",
    "import pandas as pd\n",
    "import matplotlib.pyplot as plt\n",
    "from scipy import stats\n",
    "\n",
    "import utils\n"
   ]
  },
  {
   "cell_type": "code",
   "execution_count": 30,
   "metadata": {},
   "outputs": [
    {
     "data": {
      "text/html": [
       "<div>\n",
       "<style scoped>\n",
       "    .dataframe tbody tr th:only-of-type {\n",
       "        vertical-align: middle;\n",
       "    }\n",
       "\n",
       "    .dataframe tbody tr th {\n",
       "        vertical-align: top;\n",
       "    }\n",
       "\n",
       "    .dataframe thead th {\n",
       "        text-align: right;\n",
       "    }\n",
       "</style>\n",
       "<table border=\"1\" class=\"dataframe\">\n",
       "  <thead>\n",
       "    <tr style=\"text-align: right;\">\n",
       "      <th></th>\n",
       "      <th>0</th>\n",
       "      <th>1</th>\n",
       "      <th>2</th>\n",
       "      <th>3</th>\n",
       "      <th>4</th>\n",
       "      <th>5</th>\n",
       "      <th>6</th>\n",
       "      <th>7</th>\n",
       "      <th>8</th>\n",
       "      <th>9</th>\n",
       "      <th>10</th>\n",
       "      <th>11</th>\n",
       "    </tr>\n",
       "  </thead>\n",
       "  <tbody>\n",
       "    <tr>\n",
       "      <th>0</th>\n",
       "      <td>2</td>\n",
       "      <td>3.0317</td>\n",
       "      <td>9.0450</td>\n",
       "      <td>3.1739</td>\n",
       "      <td>0.76247</td>\n",
       "      <td>3.7071</td>\n",
       "      <td>-0.31384</td>\n",
       "      <td>0.57764</td>\n",
       "      <td>0.68849</td>\n",
       "      <td>1.2654</td>\n",
       "      <td>63.629</td>\n",
       "      <td>1</td>\n",
       "    </tr>\n",
       "    <tr>\n",
       "      <th>1</th>\n",
       "      <td>2</td>\n",
       "      <td>2.9591</td>\n",
       "      <td>9.0436</td>\n",
       "      <td>3.1400</td>\n",
       "      <td>0.40588</td>\n",
       "      <td>4.6682</td>\n",
       "      <td>-0.10148</td>\n",
       "      <td>0.58385</td>\n",
       "      <td>0.68849</td>\n",
       "      <td>1.2741</td>\n",
       "      <td>83.160</td>\n",
       "      <td>1</td>\n",
       "    </tr>\n",
       "    <tr>\n",
       "      <th>2</th>\n",
       "      <td>2</td>\n",
       "      <td>2.9465</td>\n",
       "      <td>9.0545</td>\n",
       "      <td>3.0799</td>\n",
       "      <td>0.24230</td>\n",
       "      <td>5.5225</td>\n",
       "      <td>0.34857</td>\n",
       "      <td>0.56522</td>\n",
       "      <td>0.67857</td>\n",
       "      <td>1.2675</td>\n",
       "      <td>102.690</td>\n",
       "      <td>1</td>\n",
       "    </tr>\n",
       "    <tr>\n",
       "      <th>3</th>\n",
       "      <td>2</td>\n",
       "      <td>2.7898</td>\n",
       "      <td>9.0528</td>\n",
       "      <td>3.0726</td>\n",
       "      <td>0.49858</td>\n",
       "      <td>6.3463</td>\n",
       "      <td>0.61127</td>\n",
       "      <td>0.56108</td>\n",
       "      <td>0.65476</td>\n",
       "      <td>1.2610</td>\n",
       "      <td>122.220</td>\n",
       "      <td>1</td>\n",
       "    </tr>\n",
       "    <tr>\n",
       "      <th>4</th>\n",
       "      <td>2</td>\n",
       "      <td>2.6924</td>\n",
       "      <td>9.0377</td>\n",
       "      <td>2.9794</td>\n",
       "      <td>0.63197</td>\n",
       "      <td>6.6972</td>\n",
       "      <td>1.00560</td>\n",
       "      <td>0.57764</td>\n",
       "      <td>0.69246</td>\n",
       "      <td>1.2675</td>\n",
       "      <td>141.750</td>\n",
       "      <td>1</td>\n",
       "    </tr>\n",
       "  </tbody>\n",
       "</table>\n",
       "</div>"
      ],
      "text/plain": [
       "   0       1       2       3        4       5        6        7        8   \\\n",
       "0   2  3.0317  9.0450  3.1739  0.76247  3.7071 -0.31384  0.57764  0.68849   \n",
       "1   2  2.9591  9.0436  3.1400  0.40588  4.6682 -0.10148  0.58385  0.68849   \n",
       "2   2  2.9465  9.0545  3.0799  0.24230  5.5225  0.34857  0.56522  0.67857   \n",
       "3   2  2.7898  9.0528  3.0726  0.49858  6.3463  0.61127  0.56108  0.65476   \n",
       "4   2  2.6924  9.0377  2.9794  0.63197  6.6972  1.00560  0.57764  0.69246   \n",
       "\n",
       "       9        10  11  \n",
       "0  1.2654   63.629   1  \n",
       "1  1.2741   83.160   1  \n",
       "2  1.2675  102.690   1  \n",
       "3  1.2610  122.220   1  \n",
       "4  1.2675  141.750   1  "
      ]
     },
     "execution_count": 30,
     "metadata": {},
     "output_type": "execute_result"
    }
   ],
   "source": [
    "\n",
    "loc = []\n",
    "\n",
    "for i in range (0,15):\n",
    "    loc.append(\"FORTH_TRACE_DATASET-master/part\" + str(i) + \"/part\" + str(i) + \"dev2.csv\")\n",
    "\n",
    "df = pd.read_csv(loc[0], sep=',', header=None)\n",
    "array = df.to_numpy()\n",
    "\n",
    "t_acc = np.sqrt(np.add(np.square(array[:,1]),\n",
    "                       np.square(array[:,2]),\n",
    "                       np.square(array[:,3])))\n",
    "\n",
    "t_gyr = np.sqrt(np.add(np.square(array[:,4]),\n",
    "                       np.square(array[:,5]),\n",
    "                       np.square(array[:,6])))\n",
    "\n",
    "t_mag = np.sqrt(np.add(np.square(array[:,7]),\n",
    "                       np.square(array[:,8]),\n",
    "                       np.square(array[:,9])))\n"
   ]
  },
  {
   "cell_type": "code",
   "execution_count": 18,
   "metadata": {},
   "outputs": [
    {
     "data": {
      "text/plain": [
       "<Figure size 640x480 with 0 Axes>"
      ]
     },
     "metadata": {},
     "output_type": "display_data"
    },
    {
     "data": {
      "image/png": "[encoded data removed]",
      "text/plain": [
       "<Figure size 640x480 with 3 Axes>"
      ]
     },
     "metadata": {},
     "output_type": "display_data"
    }
   ],
   "source": [
    "\n",
    "\n",
    "# act1 = t_acc[array[:,-1]==5]\n",
    "\n",
    "activities = np.arange(1, 17) # nao sei se util\n",
    "box_acc = [] # TODO ver se dá para fazer isto com np.array\n",
    "box_gyr = []\n",
    "box_mag = []\n",
    "for i in range(1,17):\n",
    "    act = (array[:,-1]==i)\n",
    "    #length = np.sum(act)\n",
    "    box_acc.append(t_acc[act]) # TODO outra forma?\n",
    "    box_gyr.append(t_gyr[act])\n",
    "    box_mag.append(t_mag[act])\n",
    "\n",
    "#box_acc = np.array(box_acc)\n",
    "plt.figure()\n",
    "fig, axs = plt.subplots(3)\n",
    "axs[0].boxplot(box_acc)\n",
    "axs[1].boxplot(box_gyr)\n",
    "axs[2].boxplot(box_mag)\n",
    "plt.show()"
   ]
  },
  {
   "cell_type": "code",
   "execution_count": 19,
   "metadata": {},
   "outputs": [],
   "source": [
    "\n",
    "# desvio e outliers para cada k = 3, 3.5, 4\n",
    "d = []\n",
    "outliersk = [] \n",
    "\n",
    "x_density = 5 # percentage\n",
    "\n",
    "# for c, d in zip(a, b) itera alternadamente cada lista no mesmo loop\n",
    "for box in ([box_acc, box_gyr, box_mag]):\n",
    "    for i in range(16):\n",
    "        q1 = np.quantile(box[:][i], 0.25)\n",
    "        q3 = np.quantile(box[:][i], 0.75)\n",
    "        #av = np.average(box[:][i])\n",
    "        \n",
    "        iqr = q3-q1\n",
    "        upper_bound = q3+(1.5*iqr)\n",
    "        lower_bound = q1-(1.5*iqr)\n",
    "    \n",
    "        outliers = box[:][i][(box[:][i] <= lower_bound) | (box[:][i] >= upper_bound)]\n",
    "        out_bool = (box[:][i] <= lower_bound) | (box[:][i] >= upper_bound)\n",
    "        #print('The following are the outliers in the boxplot:{}'.format(outliers))\n",
    "        box[:][i] = box[:][i][(box[:][i] >= lower_bound) & (box[:][i] <= upper_bound)]\n",
    "        \n",
    "        #unique, counts = np.unique(out_bool, return_counts=True)\n",
    "        #desvios\n",
    "        counts = np.count_nonzero(out_bool==True)\n",
    "        d.append((counts/out_bool.size)*100) # TODO se a coluna nao tiver desvios\n",
    "        \n",
    "        zscore = stats.zscore(box[:][i], axis=0, ddof=0, nan_policy='propagate')\n",
    "        outliersk.append(box[:][i][(zscore <= -3) | (zscore >= 3)])\n",
    "        #print('The following are the outliers from the z-score test: {}'.format(outliersk[:][i]))\n",
    "        \n",
    "        #iterar para cada coluna\n",
    "        centroids, cluster = utils.k_means(box[:][i], 3)\n"
   ]
  },
  {
   "cell_type": "code",
   "execution_count": 20,
   "metadata": {},
   "outputs": [
    {
     "name": "stdout",
     "output_type": "stream",
     "text": [
      "804\n"
     ]
    }
   ],
   "source": [
    "t_out, td = utils.get_outliers(t_acc)\n",
    "p = t_out.shape[0]\n",
    "acc_out = utils.inject_outliers(10, 4, t_out, p)\n",
    "# os valores mudam mesmo apesar do teste as array dar igual"
   ]
  },
  {
   "cell_type": "code",
   "execution_count": 26,
   "metadata": {},
   "outputs": [],
   "source": [
    "coef = []\n",
    "for vec in box_acc:\n",
    "    \n",
    "    n = vec.size    \n",
    "    ran = np.ptp(vec)\n",
    "    test = np.random.rand(n)*ran\n",
    "    #print(np.reshape(test[:n], (-1,1)))\n",
    "    #print(np.reshape(vec[:n], (-1,1)).shape)\n",
    "    test = np.append(test[:n], test[:n]).reshape(-1, 2)\n",
    "    coef.append(utils.fit_linear(test, vec, n))\n",
    "\n"
   ]
  },
  {
   "cell_type": "code",
   "execution_count": 23,
   "metadata": {},
   "outputs": [],
   "source": [
    "\n",
    "for i in range(16):\n",
    "    stats.kstest(box_acc[:][i], 'norm') # if follows a gaussian\n"
   ]
  },
  {
   "cell_type": "code",
   "execution_count": null,
   "metadata": {},
   "outputs": [],
   "source": []
  },
  {
   "cell_type": "markdown",
   "metadata": {},
   "source": []
  }
 ],
 "metadata": {
  "kernelspec": {
   "display_name": "Python 3.9.13 ('base')",
   "language": "python",
   "name": "python3"
  },
  "language_info": {
   "codemirror_mode": {
    "name": "ipython",
    "version": 3
   },
   "file_extension": ".py",
   "mimetype": "text/x-python",
   "name": "python",
   "nbconvert_exporter": "python",
   "pygments_lexer": "ipython3",
   "version": "3.9.13"
  },
  "orig_nbformat": 4,
  "vscode": {
   "interpreter": {
    "hash": "c5abe1dd6f168b4f5e67de02cffc00ce8cef82ade2b382edc6fecc892b15c5a1"
   }
  }
 },
 "nbformat": 4,
 "nbformat_minor": 2
}

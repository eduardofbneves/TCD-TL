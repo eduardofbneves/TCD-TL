{
 "cells": [
  {
   "cell_type": "markdown",
   "metadata": {},
   "source": [
    "# Parte A\n",
    "\n",
    "______\n",
    "\n",
    "Colunas do Dataset:\n",
    "- Column1: Device ID\n",
    "- Column2: accelerometer x\n",
    "- Column3: accelerometer y\n",
    "- Column4: accelerometer z\n",
    "- Column5: gyroscope x\n",
    "- Column6: gyroscope y\n",
    "- Column7: gyroscope z\n",
    "- Column8: magnetometer x\n",
    "- Column9: magnetometer y\n",
    "- Column10: magnetometer z\n",
    "- Column11: Timestamp\n",
    "- Column12: Activity Label (16 atividades)\n"
   ]
  },
  {
   "cell_type": "code",
   "execution_count": 1,
   "metadata": {},
   "outputs": [],
   "source": [
    "\n",
    "import numpy as np\n",
    "import pandas as pd\n",
    "import matplotlib.pyplot as plt\n",
    "import math\n",
    "from sklearn.feature_selection import SelectKBest, chi2\n",
    "\n",
    "import featuresFunctions"
   ]
  },
  {
   "cell_type": "markdown",
   "metadata": {},
   "source": [
    "# 2. Carregamento e preparação dos dados"
   ]
  },
  {
   "cell_type": "code",
   "execution_count": 2,
   "metadata": {},
   "outputs": [
    {
     "name": "stdout",
     "output_type": "stream",
     "text": [
      "(781822, 12)\n"
     ]
    }
   ],
   "source": [
    "loc = []\n",
    "\n",
    "for i in range (0,15):\n",
    "    loc.append(\"FORTH_TRACE_DATASET-master/part\" + str(i) + \"/part\" + str(i) + \"dev2.csv\")\n",
    "\n",
    "array = []\n",
    "for file in loc:\n",
    "    df = pd.read_csv(file, sep=',', header=None)\n",
    "    array.append(df.to_numpy())\n",
    "\n",
    "array = np.concatenate(array)\n",
    "print(array.shape)"
   ]
  },
  {
   "cell_type": "markdown",
   "metadata": {},
   "source": [
    "# 3. Análise e tratamento de *Outliers*"
   ]
  },
  {
   "cell_type": "code",
   "execution_count": 3,
   "metadata": {},
   "outputs": [],
   "source": [
    "\n",
    "t_acc = np.sqrt(np.add(np.square(array[:,1]),\n",
    "                       np.square(array[:,2]),\n",
    "                       np.square(array[:,3])))\n",
    "\n",
    "t_gyr = np.sqrt(np.add(np.square(array[:,4]),\n",
    "                       np.square(array[:,5]),\n",
    "                       np.square(array[:,6])))\n",
    "\n",
    "t_mag = np.sqrt(np.add(np.square(array[:,7]),\n",
    "                       np.square(array[:,8]),\n",
    "                       np.square(array[:,9])))\n",
    "\n"
   ]
  },
  {
   "cell_type": "markdown",
   "metadata": {},
   "source": [
    "## 3.1 boxplot de cada atividade"
   ]
  },
  {
   "cell_type": "code",
   "execution_count": 4,
   "metadata": {},
   "outputs": [
    {
     "data": {
      "image/png": "[encoded data removed]",
      "text/plain": [
       "<Figure size 432x288 with 3 Axes>"
      ]
     },
     "metadata": {
      "needs_background": "light"
     },
     "output_type": "display_data"
    }
   ],
   "source": [
    "\n",
    "# act1 = t_acc[array[:,-1]==5]\n",
    "activities = np.arange(1, 17) \n",
    "box_acc = [] # TODO ver se dá para fazer isto com np.array\n",
    "box_gyr = []\n",
    "box_mag = []\n",
    "for i in range(1,17):\n",
    "    act = (array[:,-1]==i)\n",
    "    #length = np.sum(act)\n",
    "    box_acc.append(t_acc[act]) \n",
    "    box_gyr.append(t_gyr[act])\n",
    "    box_mag.append(t_mag[act])\n",
    "\n",
    "#box_acc = np.array(box_acc)\n",
    "\n",
    "fig, axs = plt.subplots(3)\n",
    "axs[0].boxplot(box_acc)\n",
    "axs[1].boxplot(box_gyr)\n",
    "axs[2].boxplot(box_mag)\n",
    "plt.show()"
   ]
  },
  {
   "cell_type": "markdown",
   "metadata": {},
   "source": [
    "## 3.2 Densidade de outliers"
   ]
  },
  {
   "cell_type": "code",
   "execution_count": 5,
   "metadata": {},
   "outputs": [
    {
     "data": {
      "text/plain": [
       "<Figure size 432x288 with 0 Axes>"
      ]
     },
     "metadata": {},
     "output_type": "display_data"
    },
    {
     "data": {
      "image/png": "[encoded data removed]",
      "text/plain": [
       "<Figure size 432x288 with 3 Axes>"
      ]
     },
     "metadata": {
      "needs_background": "light"
     },
     "output_type": "display_data"
    }
   ],
   "source": [
    "# desvio e outliers para cada k = 3, 3.5, 4\n",
    "d = np.empty(shape=[3,16])\n",
    "outliers = []\n",
    "it = 0\n",
    "\n",
    "# iterar pelos modulos e, depois, por cada atividade\n",
    "for box in ([box_acc, box_gyr, box_mag]):\n",
    "    \n",
    "    for i in range(16):\n",
    "        # computar os quartis e definir os limites\n",
    "        q1 = np.quantile(box[:][i], 0.25)\n",
    "        q3 = np.quantile(box[:][i], 0.75)\n",
    "        iqr = q3-q1 # interquartile range\n",
    "        upper_bound = q3+(1.5*iqr)\n",
    "        lower_bound = q1-(1.5*iqr)\n",
    "\n",
    "        # receber os outliers e a matrix de indices dos mesmos\n",
    "        outliers.append(box[:][i][(box[:][i] < lower_bound) | (box[:][i] > upper_bound)])\n",
    "        out_bool = (box[:][i] <= lower_bound) | (box[:][i] >= upper_bound)\n",
    "        box[:][i] = box[:][i][(box[:][i] > lower_bound) & (box[:][i] < upper_bound)]\n",
    "        \n",
    "        #desvios\n",
    "        counts = np.count_nonzero(out_bool==True)\n",
    "        d[it][i] = (counts/out_bool.size)*100 \n",
    "    it+=1\n",
    "\n",
    "xticks = np.linspace(1, 16, 16, endpoint=True)\n",
    "plt.figure()\n",
    "fig, axs = plt.subplots(3)\n",
    "axs[0].hist(d[0])\n",
    "axs[1].hist(d[1])\n",
    "axs[2].hist(d[2])\n",
    "plt.setp(axs, xticks=xticks)\n",
    "plt.show()"
   ]
  },
  {
   "cell_type": "markdown",
   "metadata": {},
   "source": [
    "Com uma análise superficial, rapidamente observa-se um pico claro em cada um dos módulos, em específico nas atividades 1, 2 e 1 de novo, respetivamente.\n",
    "\n",
    "**TODO**"
   ]
  },
  {
   "cell_type": "markdown",
   "metadata": {},
   "source": [
    "## 3.3 Função Z-score"
   ]
  },
  {
   "cell_type": "code",
   "execution_count": 6,
   "metadata": {},
   "outputs": [],
   "source": [
    "def zscore(scores, k, axis=0):\n",
    "    a = np.asanyarray(scores)\n",
    "    if a.size == 0:\n",
    "        return np.empty(a.shape)\n",
    "    \n",
    "    mn = np.mean(a, axis = axis)\n",
    "    std = np.std(a, axis = axis)\n",
    "    \n",
    "    z = (scores - mn) / std\n",
    "    outliers = scores[(z < -k) | (z > k)]\n",
    "    \n",
    "    return z, outliers\n"
   ]
  },
  {
   "cell_type": "markdown",
   "metadata": {},
   "source": [
    "## 3.4 Teste de Z-score"
   ]
  },
  {
   "cell_type": "code",
   "execution_count": 7,
   "metadata": {},
   "outputs": [
    {
     "data": {
      "image/png": "[encoded data removed]",
      "text/plain": [
       "<Figure size 432x288 with 1 Axes>"
      ]
     },
     "metadata": {
      "needs_background": "light"
     },
     "output_type": "display_data"
    }
   ],
   "source": [
    "outliersk = []\n",
    "\n",
    "for mod in [t_acc, t_gyr, t_mag]:\n",
    "    z1, out1 = zscore(mod, 3)\n",
    "    z2, out2 = zscore(mod, 3.5)\n",
    "    z3, out3 =zscore(mod, 4)\n",
    "    outliersk.append(out1)\n",
    "    outliersk.append(out2)\n",
    "    outliersk.append(out3)\n",
    "\n",
    "plt.figure()\n",
    "plt.scatter(np.ones(outliersk[0].shape)*3, outliersk[0])\n",
    "plt.scatter(np.ones(outliersk[1].shape)*3.5, outliersk[1],)\n",
    "plt.scatter(np.ones(outliersk[2].shape)*4, outliersk[2],)\n",
    "plt.title('Plot do módulo de aceleração para k=3,3.5,4')\n",
    "plt.show()\n",
    "# TODO mudar cores aqui"
   ]
  },
  {
   "cell_type": "markdown",
   "metadata": {},
   "source": [
    "## 3.5 Comparar os resultados dos dois métodos"
   ]
  },
  {
   "cell_type": "code",
   "execution_count": 8,
   "metadata": {},
   "outputs": [
    {
     "name": "stdout",
     "output_type": "stream",
     "text": [
      "           boxplot  z-score\n",
      "k=0\n",
      "mod. acc: (19740,) (9235,)\n",
      "mod. gyr: (42314,) (12856,)\n",
      "mod. mag: (11700,) (350,)\n",
      "k=1\n",
      "mod. acc: (19740,) (1598,)\n",
      "mod. gyr: (42314,) (6874,)\n",
      "mod. mag: (11700,) (220,)\n",
      "k=2\n",
      "mod. acc: (19740,) (787,)\n",
      "mod. gyr: (42314,) (3705,)\n",
      "mod. mag: (11700,) (167,)\n"
     ]
    }
   ],
   "source": [
    "diff = np.empty(shape=[3,3])\n",
    "\n",
    "print(\"           boxplot  z-score\")\n",
    "print(\"k={}\".format(0))\n",
    "print(\"mod. acc: {} {}\". format(np.hstack(outliers[0:16]).shape, outliersk[0].shape))\n",
    "print(\"mod. gyr: {} {}\". format(np.hstack(outliers[16:32]).shape, outliersk[3].shape))\n",
    "print(\"mod. mag: {} {}\". format(np.hstack(outliers[32:48]).shape, outliersk[6].shape))\n",
    "\n",
    "print(\"k={}\".format(1))\n",
    "print(\"mod. acc: {} {}\". format(np.hstack(outliers[0:16]).shape, outliersk[1].shape))\n",
    "print(\"mod. gyr: {} {}\". format(np.hstack(outliers[16:32]).shape, outliersk[4].shape))\n",
    "print(\"mod. mag: {} {}\". format(np.hstack(outliers[32:48]).shape, outliersk[7].shape))\n",
    "\n",
    "print(\"k={}\".format(2))\n",
    "print(\"mod. acc: {} {}\". format(np.hstack(outliers[0:16]).shape, outliersk[2].shape))\n",
    "print(\"mod. gyr: {} {}\". format(np.hstack(outliers[16:32]).shape, outliersk[5].shape))\n",
    "print(\"mod. mag: {} {}\". format(np.hstack(outliers[32:48]).shape, outliersk[8].shape))\n",
    "\n"
   ]
  },
  {
   "cell_type": "markdown",
   "metadata": {},
   "source": [
    "A análise feita baseia-se na quantidade de outliers registados em cada módulo do sensor. Na análise se cada atividade somarou-se o número de ouliers em cada uma delas.\n",
    "\n",
    "Verifica-se que o teste z-score retira muito menos outliers para cada um dos k testados (3, 3.5 e 4). "
   ]
  },
  {
   "cell_type": "markdown",
   "metadata": {},
   "source": [
    "## 3.6 Implementar o algoritmo Kmeans\n"
   ]
  },
  {
   "cell_type": "code",
   "execution_count": 9,
   "metadata": {},
   "outputs": [],
   "source": [
    "from numpy.linalg import norm\n",
    "\n",
    "def get_centroids(data, clusters):\n",
    "    if type(data) != np.ndarray:\n",
    "        data = np.array(data)\n",
    "    rand_id = np.random.permutation(data.shape[0])\n",
    "    centroids = data[rand_id[:(clusters)]] # cria 3 centroides para cada coluna\n",
    "    return centroids\n",
    "\n",
    "def get_distance(data, centroids, clusters):\n",
    "    distance = np.zeros((data.shape[0], clusters))\n",
    "    for i in range(clusters):\n",
    "        row_norm = norm(data - centroids[i], axis=1)\n",
    "        distance[:, i] = np.square(row_norm)\n",
    "    return distance\n",
    "\n",
    "def compute_centroids(data, clusters, distance):\n",
    "    centroids = np.zeros((clusters, data.shape[1]))\n",
    "    arr_min = np.argmin(distance, axis=1)\n",
    "    for k in range(clusters):\n",
    "        centroids[k, :] = np.mean(data[arr_min == k], axis=0)\n",
    "    return centroids\n",
    "\n",
    "def k_means(data, clusters):\n",
    "    '''\n",
    "    accepts a np.array with shape (n, m) with m exists\n",
    "    '''\n",
    "    centroids = get_centroids(data, clusters)\n",
    "    diff = 1\n",
    "    while diff!=0:\n",
    "        old_centroids = centroids\n",
    "        distance = get_distance(data, old_centroids, clusters)\n",
    "        centroids = compute_centroids(data, clusters, distance)\n",
    "        diff = np.sum(np.subtract(centroids, old_centroids))\n",
    "        dist = get_distance(data, centroids, clusters)\n",
    "        cluster = np.argmin(dist, axis=1)\n",
    "    return centroids, cluster\n"
   ]
  },
  {
   "cell_type": "markdown",
   "metadata": {},
   "source": [
    "\n",
    "## 3.7 Outliers segundo Kmeans"
   ]
  },
  {
   "cell_type": "code",
   "execution_count": 10,
   "metadata": {},
   "outputs": [],
   "source": [
    "\n",
    "# TODO verificar isto, comparar com o z-score, plotar (acc, gyr, mag)\n",
    "n = 2\n",
    "\n",
    "for box in ([box_acc, box_gyr, box_mag]):\n",
    "    for k in range(1,n):\n",
    "        for col in range(16):\n",
    "            t = np.asanyarray(box[:][col]).reshape(-1,1)\n",
    "            centroids, cluster = k_means(t, k)\n",
    "\n"
   ]
  },
  {
   "cell_type": "markdown",
   "metadata": {},
   "source": [
    "## 3.8 Implementar x% de outliers (se x>d)\n",
    "\n",
    "A primeira função dá os outliers segundo o boxplot e a sua densidade. A função substitui alguns dos pontos para prefazer x% outliers"
   ]
  },
  {
   "cell_type": "code",
   "execution_count": 11,
   "metadata": {},
   "outputs": [],
   "source": [
    "def get_outliers(vec):\n",
    "    q1 = np.quantile(vec, 0.25)\n",
    "    q3 = np.quantile(vec, 0.75)\n",
    "    #av = np.average(vec)\n",
    "    \n",
    "    iqr = q3-q1\n",
    "    upper_bound = q3+(1.5*iqr)\n",
    "    lower_bound = q1-(1.5*iqr)\n",
    "\n",
    "    outliers = vec[(vec <= lower_bound) | (vec >= upper_bound)]\n",
    "    out_bool = (vec <= lower_bound) | (vec >= upper_bound)\n",
    "    \n",
    "    counts = np.count_nonzero(out_bool==True)\n",
    "    d = (counts/out_bool.size)*100\n",
    "    return outliers, out_bool, d\n",
    "\n",
    "def inject_outliers(x, d, data, shape):\n",
    "    '''\n",
    "    x - percentage of outliers wanted\n",
    "    d - actual deviation\n",
    "    data - data to be transformed\n",
    "    shape - length of the data\n",
    "    '''\n",
    "    if (x>d):\n",
    "        points = round((x-d)*shape*0.01)\n",
    "        median = np.median(data)\n",
    "        sd = np.std(data)\n",
    "        s = (np.random.random()*2)-1\n",
    "        rang = np.ptp(data) # range\n",
    "        for i in range(points):\n",
    "            q = np.random.random()*rang\n",
    "            point = round(np.random.random()*(data.shape[0])-1)\n",
    "            data[point] = median+s*3*(sd+q)\n",
    "    return data\n"
   ]
  },
  {
   "cell_type": "markdown",
   "metadata": {},
   "source": [
    "## 3.9 Determinar o modelo linear a partir de uma amostra de treino"
   ]
  },
  {
   "cell_type": "code",
   "execution_count": 12,
   "metadata": {},
   "outputs": [],
   "source": [
    "from sklearn import linear_model\n",
    "\n",
    "def fit_linear(X, Y, n):\n",
    "    '''\n",
    "    X - train array (size p)\n",
    "    Y - array to fit\n",
    "    n - train size\n",
    "    '''    \n",
    "    reg = linear_model.LinearRegression()\n",
    "    reg.fit(X[:n].reshape(-1,1), Y[:n])\n",
    "    return reg.coef_"
   ]
  },
  {
   "cell_type": "markdown",
   "metadata": {},
   "source": [
    "## 3.10 Injetar outliers e modelar linearmente"
   ]
  },
  {
   "cell_type": "code",
   "execution_count": 13,
   "metadata": {},
   "outputs": [],
   "source": [
    "x = 10\n",
    "t_out, t_bool, td = get_outliers(t_acc)\n",
    "t_outliers = inject_outliers(x, td, t_acc.copy(), t_acc.shape[0])\n"
   ]
  },
  {
   "cell_type": "code",
   "execution_count": 14,
   "metadata": {},
   "outputs": [
    {
     "data": {
      "text/plain": [
       "(3127288,)"
      ]
     },
     "execution_count": 14,
     "metadata": {},
     "output_type": "execute_result"
    }
   ],
   "source": [
    "from sklearn.model_selection import train_test_split\n",
    "coef = []\n",
    "\n",
    "n = t_acc.size    \n",
    "ran = np.ptp(t_acc)\n",
    "train = np.random.rand(n,2)*ran\n",
    "train = np.append(train[:n], train[:n])\n",
    "#X_train, X_test, y_train, y_test = train_test_split(train, t_outliers, random_state=1)\n",
    "    \n",
    "coef = fit_linear(train, t_outliers, n)\n",
    "train.shape\n"
   ]
  },
  {
   "cell_type": "markdown",
   "metadata": {},
   "source": [
    "# 4. Extração de informação caraterística"
   ]
  },
  {
   "cell_type": "markdown",
   "metadata": {},
   "source": [
    "## 4.1 Significância e gaussianidade"
   ]
  },
  {
   "cell_type": "markdown",
   "metadata": {},
   "source": [
    "[ver link](https://www.ncbi.nlm.nih.gov/pmc/articles/PMC2881615/)"
   ]
  },
  {
   "cell_type": "code",
   "execution_count": 15,
   "metadata": {},
   "outputs": [
    {
     "name": "stdout",
     "output_type": "stream",
     "text": [
      "[KstestResult(statistic=0.9999999988203478, pvalue=0.0), KstestResult(statistic=0.9189320835352807, pvalue=0.0), KstestResult(statistic=0.9848861413307427, pvalue=0.0), KstestResult(statistic=0.9997848772028269, pvalue=0.0), KstestResult(statistic=0.999896693089915, pvalue=0.0), KstestResult(statistic=0.9991919884219767, pvalue=0.0), KstestResult(statistic=0.9984629683581309, pvalue=0.0), KstestResult(statistic=0.9452111215384591, pvalue=0.0), KstestResult(statistic=0.9967472382781719, pvalue=0.0), KstestResult(statistic=0.9820698772746062, pvalue=0.0), KstestResult(statistic=0.9903609951342658, pvalue=0.0), KstestResult(statistic=0.9999999997183068, pvalue=0.0), KstestResult(statistic=0.9999999999999982, pvalue=0.0), KstestResult(statistic=0.9999964749540581, pvalue=0.0), KstestResult(statistic=0.9999559046157585, pvalue=0.0), KstestResult(statistic=0.9999949764648844, pvalue=0.0), KstestResult(statistic=0.552295211723606, pvalue=0.0), KstestResult(statistic=0.5148263033571472, pvalue=0.0), KstestResult(statistic=0.5263880019997702, pvalue=0.0), KstestResult(statistic=0.9681553332697119, pvalue=0.0), KstestResult(statistic=0.9751415985568592, pvalue=0.0), KstestResult(statistic=0.9948912784851563, pvalue=0.0), KstestResult(statistic=0.9961087130199517, pvalue=0.0), KstestResult(statistic=0.5648707883570208, pvalue=0.0), KstestResult(statistic=0.6752070584029022, pvalue=0.0), KstestResult(statistic=0.5728106301246918, pvalue=0.0), KstestResult(statistic=0.740296789214699, pvalue=0.0), KstestResult(statistic=0.8730772292631892, pvalue=0.0), KstestResult(statistic=0.6173898587659157, pvalue=0.0), KstestResult(statistic=0.9028788458546159, pvalue=0.0), KstestResult(statistic=0.9926945844057892, pvalue=0.0), KstestResult(statistic=0.9956645234257808, pvalue=0.0), KstestResult(statistic=0.7406696211976717, pvalue=0.0), KstestResult(statistic=0.5111943552566061, pvalue=0.0), KstestResult(statistic=0.5188276693761094, pvalue=0.0), KstestResult(statistic=0.6917326550069964, pvalue=0.0), KstestResult(statistic=0.687419730009738, pvalue=0.0), KstestResult(statistic=0.7419462039442437, pvalue=0.0), KstestResult(statistic=0.7210709983672822, pvalue=0.0), KstestResult(statistic=0.5149472257206351, pvalue=0.0), KstestResult(statistic=0.6519851778462353, pvalue=0.0), KstestResult(statistic=0.5237435133024849, pvalue=0.0), KstestResult(statistic=0.6551542536363615, pvalue=0.0), KstestResult(statistic=0.701760709947217, pvalue=0.0), KstestResult(statistic=0.7404286109646978, pvalue=0.0), KstestResult(statistic=0.7265662691668331, pvalue=0.0), KstestResult(statistic=0.7572784706459659, pvalue=0.0), KstestResult(statistic=0.8008530170709277, pvalue=0.0)]\n"
     ]
    }
   ],
   "source": [
    "from scipy import stats\n",
    "\n",
    "mean = []\n",
    "ks_test = []\n",
    "\n",
    "for box in ([box_acc, box_gyr, box_mag]):\n",
    "    for i in range(16):\n",
    "        mean.append(np.mean(box[:][i]))\n",
    "        \n",
    "        ks_test.append(stats.kstest(box[:][i], 'norm'))\n",
    "        \n",
    "\n",
    "\n",
    "print(ks_test)\n"
   ]
  },
  {
   "cell_type": "markdown",
   "metadata": {},
   "source": [
    "## 4.2 Extração de *features* relevantes\n",
    "\n",
    "No artigo em causa, as features estatísticas direcionam-se apenas a cada eixo do acelerómetro e do giroscópio (colunas 1-7)\n",
    "\n",
    "Damos também uso à estratégia 'sliding window' para atuar em todo o array de forma contínua"
   ]
  },
  {
   "cell_type": "code",
   "execution_count": 16,
   "metadata": {},
   "outputs": [
    {
     "name": "stdout",
     "output_type": "stream",
     "text": [
      "window length: 170\n"
     ]
    }
   ],
   "source": [
    "time = array[:,-2]\n",
    "delta_time = time[1] - time[0]\n",
    "deci = (2/0.60)*1000\n",
    "window = math.floor(deci/delta_time)\n",
    "print(\"window length: {}\".format(window))"
   ]
  },
  {
   "cell_type": "markdown",
   "metadata": {},
   "source": []
  },
  {
   "cell_type": "code",
   "execution_count": 22,
   "metadata": {},
   "outputs": [
    {
     "name": "stderr",
     "output_type": "stream",
     "text": [
      "c:\\Users\\Eduardo\\Documents\\MECD\\TCD\\TCD-TL\\TCD-TL\\featuresFunctions.py:101: VisibleDeprecationWarning: Creating an ndarray from ragged nested sequences (which is a list-or-tuple of lists-or-tuples-or ndarrays with different lengths or shapes) is deprecated. If you meant to do this, you must specify 'dtype=object' when creating the ndarray.\n",
      "  return np.array(eva)\n"
     ]
    },
    {
     "data": {
      "text/plain": [
       "(4599,)"
      ]
     },
     "execution_count": 22,
     "metadata": {},
     "output_type": "execute_result"
    }
   ],
   "source": [
    "#####################\n",
    "eva = featuresFunctions.eva(array[:,1:4], window)\n",
    "eva.shape"
   ]
  },
  {
   "cell_type": "code",
   "execution_count": 23,
   "metadata": {},
   "outputs": [
    {
     "data": {
      "text/plain": [
       "(4599, 36)"
      ]
     },
     "execution_count": 23,
     "metadata": {},
     "output_type": "execute_result"
    }
   ],
   "source": [
    "mean = featuresFunctions.mean(array[:,1:7], window)\n",
    "median = featuresFunctions.median(array[:,1:7], window)\n",
    "std, var = featuresFunctions.std_var(array[:,1:7], window)\n",
    "rms = featuresFunctions.rms(array[:,1:7], window)\n",
    "skew = featuresFunctions.skewness(array[:,1:7], window)\n",
    "kurt = featuresFunctions.kurtosis(array[:,1:7], window)\n",
    "irange = featuresFunctions.irange(array[:,1:7], window)\n",
    "\n",
    "\n",
    "ai, vi = featuresFunctions.mov_intensity(array[:,1:4], window)\n",
    "sma = featuresFunctions.sma(array[:,1:4], window)\n",
    "\n",
    "ai.shape\n",
    "feat_array = np.concatenate((mean, median, std, var, rms, irange), \\\n",
    "    axis=1)\n",
    "feat_array.shape"
   ]
  },
  {
   "cell_type": "markdown",
   "metadata": {},
   "source": [
    "## 4.3 PCA\n",
    "\n",
    "PCA - identifica os eixos principais de variancia do *dataset*. Permite explorar as variáveis chave e descobrir outliers"
   ]
  },
  {
   "cell_type": "code",
   "execution_count": null,
   "metadata": {},
   "outputs": [],
   "source": [
    "from sklearn.model_selection import train_test_split\n",
    "from sklearn.preprocessing import StandardScaler\n",
    "from sklearn.decomposition import PCA\n",
    "\n",
    "def pca_feature(x, y, test_size):\n",
    "    X_train, X_test, y_train, y_test = train_test_split(x, y, \\\n",
    "        test_size = test_size, random_state=0)\n",
    "    sc = StandardScaler()\n",
    "    X_train = sc.fit_transform(X_train)\n",
    "    X_test = sc.transform(X_test)\n",
    "    pca = PCA()\n",
    "\n",
    "    return pca, X_train, X_test, y_train, y_test\n"
   ]
  },
  {
   "cell_type": "markdown",
   "metadata": {},
   "source": [
    "## 4.4 Vetores principais\n",
    "\n",
    "A partir do teste do PCA, obtemos os pesos de cada eixo principal do *dataset*, dos quais podemos inferir qual a sua relevância para \n",
    "\n",
    "Normalização é feita ao implementar o z-score, que devolve uma matriz com média zero e desvio padrão 0."
   ]
  },
  {
   "cell_type": "code",
   "execution_count": null,
   "metadata": {},
   "outputs": [
    {
     "data": {
      "text/plain": [
       "array([0.24100604, 0.21170821, 0.14776603, 0.14499658, 0.10823576,\n",
       "       0.05881421, 0.04071446, 0.03838381, 0.00837488])"
      ]
     },
     "execution_count": 19,
     "metadata": {},
     "output_type": "execute_result"
    }
   ],
   "source": [
    "x, out = zscore(array[:,1:10], 1.5)\n",
    "y, out = zscore(array[:,-1], 1.5)\n",
    "\n",
    "pca, X_train, X_test, y_train, y_test = pca_feature(x, y, 0.5)\n",
    "\n",
    "X_train = pca.fit_transform(X_train)\n",
    "X_test = pca.transform(X_test)\n",
    "pca.explained_variance_ratio_\n",
    "# TODO isto aparece organizado é suposto?"
   ]
  },
  {
   "cell_type": "markdown",
   "metadata": {},
   "source": [
    "## Implementar o Fisher Score e ReliefF"
   ]
  },
  {
   "cell_type": "markdown",
   "metadata": {},
   "source": [
    "from skfeature.function.similarity_based import fisher_score \n",
    "\n",
    "ranks = fisher_score.fisher_score(x, y)\n",
    "\n",
    "fisher_score.feature_rating\n",
    "\n",
    "\n",
    "nao esta a dar"
   ]
  },
  {
   "cell_type": "code",
   "execution_count": null,
   "metadata": {},
   "outputs": [
    {
     "name": "stdout",
     "output_type": "stream",
     "text": [
      "(No. of tuples, No. of Columns before ReliefF) : (4599, 36)\n",
      "(No. of tuples , No. of Columns after ReliefF) : (4599, 10)\n"
     ]
    }
   ],
   "source": [
    "from ReliefF import ReliefF\n",
    "\n",
    "def relief(x, y, neighbours, feat):\n",
    "      \n",
    "      fs = ReliefF(n_neighbors=1, n_features_to_keep=10)\n",
    "      X_train = fs.fit_transform(x, y)\n",
    "      return X_train\n",
    "\n",
    "X_train = relief(feat_array, y, 5, 10)\n",
    "print(\"(No. of tuples, No. of Columns before ReliefF) : \"+str(feat_array.shape)+\n",
    "      \"\\n(No. of tuples , No. of Columns after ReliefF) : \"+str(X_train.shape))\n"
   ]
  },
  {
   "cell_type": "markdown",
   "metadata": {},
   "source": [
    "## Identificar as 10 melhores features"
   ]
  }
 ],
 "metadata": {
  "kernelspec": {
   "display_name": "Python 3.9.12 ('base')",
   "language": "python",
   "name": "python3"
  },
  "language_info": {
   "codemirror_mode": {
    "name": "ipython",
    "version": 3
   },
   "file_extension": ".py",
   "mimetype": "text/x-python",
   "name": "python",
   "nbconvert_exporter": "python",
   "pygments_lexer": "ipython3",
   "version": "3.9.12"
  },
  "orig_nbformat": 4,
  "vscode": {
   "interpreter": {
    "hash": "451f9409e4a1d80d0e57066b36b4624c2c0f11dfc98b1c0bd8da4a3c0fa8d9f4"
   }
  }
 },
 "nbformat": 4,
 "nbformat_minor": 2
}
